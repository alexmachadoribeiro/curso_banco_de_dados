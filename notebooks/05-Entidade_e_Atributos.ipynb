{
 "cells": [
  {
   "cell_type": "markdown",
   "metadata": {},
   "source": [
    "# **Entidades e Atributos**\n",
    "---"
   ]
  },
  {
   "cell_type": "markdown",
   "metadata": {},
   "source": [
    "\n",
    "## Requisitos da aula\n",
    "\n",
    "- Introdução ao Banco de Dados\n",
    "- Banco de Dados Relacional\n",
    "- DER\n",
    "\n",
    "---"
   ]
  },
  {
   "cell_type": "markdown",
   "metadata": {},
   "source": [
    "## Entidade no DER\n",
    "---\n",
    "\n",
    "Como vimos em aulas anteriores, uma **Entidade** é basicamente algo que existe. Em um banco de dados, isso se traduz em qualquer coisa que possa ser cadastrada em um sistema: uma pessoa, um produto, um curso...\n",
    "\n",
    "Mas para sabermos como essa entidade é, precisamos de alguns dados sobre ela. São esses dados que definem a entidade, e eles são chamados de **atributos**. Em um banco de dados, atributos são os campos que preenchemos em um cadastro: nome, data de nascimento, cpf, e-mail..."
   ]
  },
  {
   "cell_type": "markdown",
   "metadata": {},
   "source": [
    "## Criando uma entidade no brModelo\n",
    "---\n",
    "\n",
    "Abra o brModelo, e na barra de artefatos, clique no símbolo que representa um retângulo, e em seguida, clique no centro da janela, conforme imagem abaixo:"
   ]
  },
  {
   "cell_type": "markdown",
   "metadata": {},
   "source": [
    "<div style=\"display: flex; justify-content: center\">\n",
    "    <img src=\"../assets/brmodelo-tela-05.png\" alt=\"Tela brModelo\" />\n",
    "</div>"
   ]
  },
  {
   "cell_type": "markdown",
   "metadata": {},
   "source": [
    "Se tudo der certo, irá aparecer a imagem abaixo:"
   ]
  },
  {
   "cell_type": "markdown",
   "metadata": {},
   "source": [
    "<div style=\"display: flex; justify-content: center\">\n",
    "    <img src=\"../assets/brmodelo-tela-06.png\" alt=\"Tela brModelo\" />\n",
    "</div>"
   ]
  },
  {
   "cell_type": "markdown",
   "metadata": {},
   "source": [
    "Esse retângulo representa o que se deseja cadastrar no banco. Vamos supor que estamos criando um banco de dados para cadastrar os dados de um usuário. Logo, o nome da nossa entidade será **Usuário**. Para que possamos mudar o nome da entidade no nosso DER, dê um clique na entidade que acabamos de criar. Repare que o painel à esquerda irá mudar:"
   ]
  },
  {
   "cell_type": "markdown",
   "metadata": {},
   "source": [
    "<div style=\"display: flex; justify-content: center\">\n",
    "    <img src=\"../assets/brmodelo-tela-07.png\" alt=\"Tela brModelo\" />\n",
    "</div>"
   ]
  },
  {
   "cell_type": "markdown",
   "metadata": {},
   "source": [
    "Na propriedade **Nome**, iremos mudar o nome da entidade para **Usuário**, conforme imagem abaixo:"
   ]
  },
  {
   "cell_type": "markdown",
   "metadata": {},
   "source": [
    "<div style=\"display: flex; justify-content: center\">\n",
    "    <img src=\"../assets/brmodelo-tela-08.png\" alt=\"Tela brModelo\" />\n",
    "</div>"
   ]
  },
  {
   "cell_type": "markdown",
   "metadata": {},
   "source": [
    "Prontinho! Criamos a entidade **Usuário**. Meus parabéns!!!"
   ]
  },
  {
   "cell_type": "markdown",
   "metadata": {},
   "source": [
    "## Atributos da entidade no brModelo\n",
    "---\n",
    "\n",
    "Agora que criamos a nossa entidade a ser cadastrada no nosso banco de dados, chegou a hora de definirmos os **atributos** dessa entidade.\n",
    "\n",
    "No DER, o símbolo do atributo é esse logo abaixo, e é inserido no diagrama da entidade:"
   ]
  },
  {
   "cell_type": "markdown",
   "metadata": {},
   "source": [
    "<div style=\"display: flex; justify-content: center\">\n",
    "    <img src=\"../assets/atributo.png\" alt=\"Atributo\" />\n",
    "</div>"
   ]
  },
  {
   "cell_type": "markdown",
   "metadata": {},
   "source": [
    "Ele se encontra na barra de artefatos. Clique nele e depois clique na entidade do seu diagrama:"
   ]
  },
  {
   "cell_type": "markdown",
   "metadata": {},
   "source": [
    "<div style=\"display: flex; justify-content: center\">\n",
    "    <img src=\"../assets/brmodelo-tela-09.png\" alt=\"Tela brModelo\" />\n",
    "</div>"
   ]
  },
  {
   "cell_type": "markdown",
   "metadata": {},
   "source": [
    "Veja que o atributo foi adicionado na entidade. Depois disso, clique no atributo adicionado. No painel de propriedades, mude o nome do atributo para **Nome**, conforme imagem abaixo:"
   ]
  },
  {
   "cell_type": "markdown",
   "metadata": {},
   "source": [
    "<div style=\"display: flex; justify-content: center\">\n",
    "    <img src=\"../assets/brmodelo-tela-10.png\" alt=\"Tela brModelo\" />\n",
    "</div>"
   ]
  },
  {
   "cell_type": "markdown",
   "metadata": {},
   "source": [
    "### Atributo identificador\n",
    "\n",
    "Ao desenvolver esse diagrama, significa que, quando formos criar o banco de dados físico no SQL, nosso banco terá uma tabela chamada **Usuário**, e nessa tabela teremos um campo chamado **Nome**, onde poderemos cadastrar um usuário informando o nome dele, e ao finalizarmos esse cadastro, será inserido um registro na tabela **Usuário** com o nome deste usuário. Se depois que o banco físico for criado cadastrarmos 20 usuários, teremos 20 nomes guardados nesse banco, mas agora não é hora de cadastrarmos ninguem. Estamos apenas projetando o banco, mas vamos continuar.\n",
    "\n",
    "Adicione nessa mesma entidade um novo atributo, repetindo o passo anterior. Mas desta vez, iremos adicionar um atributo **ID Usuário**, conforme imagem abaixo:"
   ]
  },
  {
   "cell_type": "markdown",
   "metadata": {},
   "source": [
    "<div style=\"display: flex; justify-content: center\">\n",
    "    <img src=\"../assets/brmodelo-tela-11.png\" alt=\"Tela brModelo\" />\n",
    "</div>"
   ]
  },
  {
   "cell_type": "markdown",
   "metadata": {},
   "source": [
    "Toda entidade criada precisa ter, obrigatoriamente, um atributo que, ao ser cadastrado, seu valor não pode ser identico ao de nenhum outro registro nessa tabela. Isso é necessário para que os registros possam ser corretamente indexados, mantendo assim um índice que torna cada registro fácil de ser encontrado e manipulado futuramente.\n",
    "\n",
    "No DER, chamamos esse atributo de **atributo identificador**. Para mudarmos um atributo para um atributo identificador, selecione o atributo em questão, e no painel de propriedades, vá em **Identificador** e clique em **Não** para mudar o valor para **Sim**. Se tudo der certo, a bolinha do atributo ficará na cor escura, conforme imagem abaixo:"
   ]
  },
  {
   "cell_type": "markdown",
   "metadata": {},
   "source": [
    "<div style=\"display: flex; justify-content: center\">\n",
    "    <img src=\"../assets/brmodelo-tela-12.png\" alt=\"Tela brModelo\" />\n",
    "</div>"
   ]
  },
  {
   "cell_type": "markdown",
   "metadata": {},
   "source": [
    "### Atributo multivalorado\n",
    "\n",
    "Alguns atributos podem possuir mais de um valor. Nesses casos, usamos o símbolo de **atributo multivalorado**, que se encontra na barra de artefatos, através do botão mostrado abaixo:"
   ]
  },
  {
   "cell_type": "markdown",
   "metadata": {},
   "source": [
    "<div style=\"display: flex; justify-content: center\">\n",
    "    <img src=\"../assets/atributo-multivalorado.png\" alt=\"Atributo multivalorado\" />\n",
    "</div>"
   ]
  },
  {
   "cell_type": "markdown",
   "metadata": {},
   "source": [
    "Vamos, por exemplo, acrescentar o atributo **Endereço** à entidade. O atributo em questão possui vários valores diferentes, como CEP, UF, Cidade, Bairro...\n",
    "\n",
    "Clique no botão do atributo multivalorado e depois clique na entidade, conforme indicado na imagem abaixo:"
   ]
  },
  {
   "cell_type": "markdown",
   "metadata": {},
   "source": [
    "<div style=\"display: flex; justify-content: center\">\n",
    "    <img src=\"../assets/brmodelo-tela-13.png\" alt=\"Tela brModelo\" />\n",
    "</div>"
   ]
  },
  {
   "cell_type": "markdown",
   "metadata": {},
   "source": [
    "Você pode alterar o **Atributo_1** para **Endereço**, o **Atributo_2** para **CEP**, e o **Atributo_3** para **UF**, por exemplo.\n",
    "\n",
    "Caso precise de mais atributos no **Endereço**, use o botão do atributo simples - o mesmo que foi usado no campo Nome - e clique em cima do atributo **Endereço** para criar um novo sub-atributo:"
   ]
  },
  {
   "cell_type": "markdown",
   "metadata": {},
   "source": [
    "<div style=\"display: flex; justify-content: center\">\n",
    "    <img src=\"../assets/brmodelo-tela-14.png\" alt=\"Tela brModelo\" />\n",
    "</div>"
   ]
  },
  {
   "cell_type": "markdown",
   "metadata": {},
   "source": [
    "Agora, é só salvar o arquivo em **Arquivo -> Salvar como...**"
   ]
  },
  {
   "cell_type": "markdown",
   "metadata": {},
   "source": [
    "<div style=\"display: flex; justify-content: center\">\n",
    "    <img src=\"../assets/brmodelo-salvar-como.png\" alt=\"Tela brModelo\" />\n",
    "</div>"
   ]
  },
  {
   "cell_type": "markdown",
   "metadata": {},
   "source": [
    "Meus parabéns!!! Você criou sua primeira entidade com seus atributos!!!"
   ]
  },
  {
   "cell_type": "markdown",
   "metadata": {},
   "source": [
    "## Exercício de fixação\n",
    "---\n",
    "\n",
    "Para treinarmos, crie um novo diagrama com uma nova entidade chamada **Pessoa**, com os seguintes atributos:\n",
    "\n",
    "- ID Pessoa (atributo identificador)\n",
    "- Nome\n",
    "- Data de Nascimento\n",
    "- CPF\n",
    "- E-mail\n",
    "- Telefone\n",
    "- Endereço (CEP, UF, Cidade, Bairro, Logradouro, Complemento, Número)"
   ]
  }
 ],
 "metadata": {
  "language_info": {
   "name": "python"
  }
 },
 "nbformat": 4,
 "nbformat_minor": 2
}
