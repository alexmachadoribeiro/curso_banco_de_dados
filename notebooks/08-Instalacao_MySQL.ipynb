{
 "cells": [
  {
   "cell_type": "markdown",
   "metadata": {},
   "source": [
    "# **Instalação do MySQL Server e Workbench**\n",
    "---"
   ]
  },
  {
   "cell_type": "markdown",
   "metadata": {},
   "source": [
    "## Requisitos da aula\n",
    "\n",
    "- Banco de Dados Relacional\n",
    "---"
   ]
  },
  {
   "cell_type": "markdown",
   "metadata": {},
   "source": [
    "## SGBD MySQL\n",
    "\n",
    "Para conseguirmos criar nossos bancos, precisaremos primeiro instalar um SGBD. Como dito anteriormente, o SGBD que usaremos aqui no nosso curso será o **MySQL**. Atualmente, o detentor dos direitos do MySQL é a **Oracle**, mesmo que ela já possua e seja famosa por ter seu próprio banco de dados. Para baixar e instalar o MySQL, siga os passos abaixo:\n",
    "\n",
    "1. Acesse o endereço do site do MySQL: https://www.mysql.com/downloads/\n"
   ]
  },
  {
   "cell_type": "markdown",
   "metadata": {},
   "source": [
    "<div style=\"display: flex; justify-content: center\">\n",
    "    <img src=\"../assets/mysql-download-01.png\" alt=\"Download do MySQL\" />\n",
    "</div>"
   ]
  },
  {
   "cell_type": "markdown",
   "metadata": {},
   "source": [
    "2. Desça a barra de rolagem até o link do **MySQL Community**:"
   ]
  },
  {
   "cell_type": "markdown",
   "metadata": {},
   "source": [
    "<div style=\"display: flex; justify-content: center\">\n",
    "    <img src=\"../assets/mysql-download-02.png\" alt=\"Download do MySQL\" />\n",
    "</div>"
   ]
  },
  {
   "cell_type": "markdown",
   "metadata": {},
   "source": [
    "3. Na página que abrir, clique no link **MySQL Installer for Windows**:"
   ]
  },
  {
   "cell_type": "markdown",
   "metadata": {},
   "source": [
    "<div style=\"display: flex; justify-content: center\">\n",
    "    <img src=\"../assets/mysql-download-03.png\" alt=\"Download do MySQL\" />\n",
    "</div>"
   ]
  },
  {
   "cell_type": "markdown",
   "metadata": {},
   "source": [
    "4. A próxima página terá algumas informações importantes a conferir antes de fazer o download:\n",
    "\n",
    "- Uma delas diz respeito à versão do MySQL que iremos usar, que no momento da criação dessa apostila era a 8.0.41.\n",
    "- A outra diz respeito ao Sistema Operacional da sua máquina. No caso desse tutorial, será o Microsoft Windows.\n",
    "- Por fim, ele fornece duas alternativas para o download. Repare que um download é maior que o outro. Iremos usar a versão com o maior tamanho, pois ela contém todas as instalações que iremos precisar.\n",
    "\n",
    "5. Observe na imagem abaixo as informações e qual download deverá ser feito:"
   ]
  },
  {
   "cell_type": "markdown",
   "metadata": {},
   "source": [
    "<div style=\"display: flex; justify-content: center\">\n",
    "    <img src=\"../assets/mysql-download-04.png\" alt=\"Download do MySQL\" />\n",
    "</div>"
   ]
  },
  {
   "cell_type": "markdown",
   "metadata": {},
   "source": [
    "6. O download ainda não irá se iniciar. Ao invés disso, você será redirecionado para outra página, que pede para que você faça o login no site da Oracle, ou crie uma conta, mas adivinhe só: nada disso é necessário, já que você pode fazer o download diretamente sem precisar de cadastro. Basta clicar em **No thanks, just start my download**, e o download irá se iniciar já:"
   ]
  },
  {
   "cell_type": "markdown",
   "metadata": {},
   "source": [
    "<div style=\"display: flex; justify-content: center\">\n",
    "    <img src=\"../assets/mysql-download-05.png\" alt=\"Download do MySQL\" />\n",
    "</div>"
   ]
  },
  {
   "cell_type": "markdown",
   "metadata": {},
   "source": [
    "7. Após terminar o download, abra o arquivo para iniciar a instalação do MySQL no seu computador.\n",
    "\n",
    "Continua..."
   ]
  }
 ],
 "metadata": {
  "language_info": {
   "name": "python"
  }
 },
 "nbformat": 4,
 "nbformat_minor": 2
}
