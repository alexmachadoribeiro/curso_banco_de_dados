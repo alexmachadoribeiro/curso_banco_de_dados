{
 "cells": [
  {
   "cell_type": "markdown",
   "metadata": {},
   "source": [
    "# **Relações**\n",
    "---"
   ]
  },
  {
   "cell_type": "markdown",
   "metadata": {},
   "source": [
    "## Requisitos da aula\n",
    "\n",
    "- Banco de Dados Relacional\n",
    "- DER\n",
    "- Entidade e Atributos\n",
    "\n",
    "---"
   ]
  },
  {
   "cell_type": "markdown",
   "metadata": {},
   "source": [
    "Na aula anterior, criamos uma entidade e seus atributos, mas já sabemos que um banco não é formado por uma única entidade, mas sim por várias entidades, que possuem uma relação entre si. Hoje vamos estudar sobre essas relações, e como construí-las.\n",
    "\n",
    "## Revisando Cardinalidades\n",
    "---\n",
    "\n",
    "Em aulas anteriores, vimos algo sobre cardinalidades, que são nada mais do que os tipos de relações que podemos construir entre as entidades de um banco. A partir de agora, vamos nos aprofundar mais sobre elas, conforme prometido, mas antes, vamos revisar as cardinalidades:\n",
    "\n",
    "- **1:1 - Um-para-um**. Exemplo: um cliente de uma locadora de carros só poderá alugar um único carro por vez.\n",
    "- **1:N - Um-para-muitos**. Exemplo: um professor pode dar aula para várias turmas de qualificação do SENAI, mas uma turma de qualificação só pode ter um professor.\n",
    "- **N:M - Muito-para-muitos**. Exemplo: uma turma do ensino médio pode ter vários professores, e cada professor pode dar aula para mais de uma turma."
   ]
  },
  {
   "cell_type": "markdown",
   "metadata": {},
   "source": [
    "## Estabelecendo relações entre entidades no brModelo\n",
    "---\n",
    "\n",
    "Para que possamos ter uma relação entre diferentes entidades no brModelo, primeiro precisaremos de pelo menos 2 entidades. Portanto, abra o **brModelo** em um novo DER, e vamos criar inicialmente duas entidades: **Cliente** e **Produto**. Defina corretamente seus atributos, e não se esqueça do atributo identificador. Para **Cliente**, vamos definir **id_cliente**, **nome** e **cpf**, apenas, e no **Produto** defina o **codigo_produto**, **nome_produto** e **preco_produto**. O objetivo é deixar a atividade mais prática:"
   ]
  },
  {
   "cell_type": "markdown",
   "metadata": {},
   "source": [
    "<div style=\"display: flex; justify-content: center\">\n",
    "    <img src=\"../assets/brmodelo-tela-15.png\" alt=\"Tela brModelo\" />\n",
    "</div>"
   ]
  },
  {
   "cell_type": "markdown",
   "metadata": {},
   "source": [
    "Pronto! Agora que temos 2 entidades, podemos estabelecer uma relação entre elas no diagrama. Essa relação é estabelecida pelo símbolo do **losango** que se encontra na barra de artefatos:"
   ]
  },
  {
   "cell_type": "markdown",
   "metadata": {},
   "source": [
    "<div style=\"display: flex; justify-content: center\">\n",
    "    <img src=\"../assets/brmodelo-relacoes.png\" alt=\"Tela brModelo\" />\n",
    "</div>"
   ]
  },
  {
   "cell_type": "markdown",
   "metadata": {},
   "source": [
    "Insira o símbolo de relação entre entidades no diagrama, conforme mostrado na imagem abaixo:"
   ]
  },
  {
   "cell_type": "markdown",
   "metadata": {},
   "source": [
    "<div style=\"display: flex; justify-content: center\">\n",
    "    <img src=\"../assets/brmodelo-tela-16.png\" alt=\"Tela brModelo\" />\n",
    "</div>"
   ]
  },
  {
   "cell_type": "markdown",
   "metadata": {},
   "source": [
    "Agora que existe um relacionamento no diagrama, precisamos dizer de quem é essa relação, e que relação é essa. Na barra de artefatos temos um elemento que faz a ligação entre a relação e as entidades. Veja o símbolo:\n",
    "\n"
   ]
  },
  {
   "cell_type": "markdown",
   "metadata": {},
   "source": [
    "<div style=\"display: flex; justify-content: center\">\n",
    "    <img src=\"../assets/brmodelo-ligacao.png\" alt=\"Tela brModelo\" />\n",
    "</div>"
   ]
  },
  {
   "cell_type": "markdown",
   "metadata": {},
   "source": [
    "Clique nesse símbolo, depois clique na relação, e depois em uma das entidades. E após isso, repita a operação com a outra entidade:"
   ]
  },
  {
   "cell_type": "markdown",
   "metadata": {},
   "source": [
    "<div style=\"display: flex; justify-content: center\">\n",
    "    <img src=\"../assets/brmodelo-tela-17.png\" alt=\"Tela brModelo\" />\n",
    "</div>"
   ]
  },
  {
   "cell_type": "markdown",
   "metadata": {},
   "source": [
    "Observe que automaticamente ele coloca o texto **(0,n)** em cima das duas linhas. São as cardinalidades, e iremos precisar editá-las mais para frente. Antes disso, precisamos definir qual o nome da relação entre **Cliente** e **Produto**. Por exemplo: um cliente pode **possuir** um produto, que por sua vez pode ser possuído por um cliente, mas o cliente também pode **comprar** um produto, que por sua vez pode ser comprado por um cliente.\n",
    "\n",
    "Digamos que nesse caso, a relação seja uma **compra**. Então vamos editar o relacionamento no diagrama:"
   ]
  },
  {
   "cell_type": "markdown",
   "metadata": {},
   "source": [
    "<div style=\"display: flex; justify-content: center\">\n",
    "    <img src=\"../assets/brmodelo-tela-18.png\" alt=\"Tela brModelo\" />\n",
    "</div>"
   ]
  },
  {
   "cell_type": "markdown",
   "metadata": {},
   "source": [
    "Ok! Agora vamos editar as cardinalidades nas duas extremidades da relação. Começaremos pelo **Cliente**. Se a relação entre Cliente e Produto é **Compra**, um Cliente pode comprar quantos produtos?\n",
    "\n",
    "**a)** Um produto.<br />\n",
    "**b)** Nenhum produto. <br />\n",
    "**c)** Vários produtos.\n",
    "\n",
    "Se a resposta para essa pergunta for a letra **a)**, isso significa que o cliente só poderá comprar um único produto, mas não poderá comprar outros. Por outro lado, se a resposta for a letra **b)**, isso significa que o cliente jamais poderá comprar produto algum, logo, ele não poderá ser um cliente.\n",
    "\n",
    "Já na resposta **c)**, o cliente poderá levar ao mesmo tempo vários produtos, quantos ele quiser. Logo, a resposta certa é letra **c)**. Dessa forma, a cardinalidade correta do lado do cliente é **(1:n)**, e por isso, precisaremos editá-la.\n",
    "\n",
    "Clique na cardinalidade do Cliente, e mude na barra de propriedades para **(1:n)**, conforme imagem abaixo:"
   ]
  },
  {
   "cell_type": "markdown",
   "metadata": {},
   "source": [
    "<div style=\"display: flex; justify-content: center\">\n",
    "    <img src=\"../assets/brmodelo-tela-19.png\" alt=\"Tela brModelo\" />\n",
    "</div>"
   ]
  },
  {
   "cell_type": "markdown",
   "metadata": {},
   "source": [
    "Repetiremos o mesmo processo com o **Produto**, nos perguntando também qual a cardinalidade correta a ser aplicada no produto:\n",
    "\n",
    "**a)** Um produto pode ser comprado por um único cliente. <br />\n",
    "**b)** Um produto pode ser comprado por nenhum cliente. <br />\n",
    "**c)** Um produto pode ser comprado por vários clientes.\n",
    "\n",
    "Se a resposta for **a)**, aquele produto será exclusivo do cliente que pagou por ele. Se a resposta for **b)**, significa que o produto não foi comprado por nenhum cliente, e portanto, ficará no estoque. Já no caso da resposta **c)**, o mesmo produto poderá ser usado por clientes diferentes, o que significa que nesse caso, um cliente não será o único dono dele.\n",
    "\n",
    "Pegamos como exemplo uma barra de chocolate como produto. Como este produto poderá ser comprado por um cliente se ele já foi comprado e consumido antes por outro cliente? A cardinalidade do Produto não pode ser de (1:n), que é a mesma do Cliente. Consequentemente, a resposta **c)** não pode ser a correta. A resposta **b)** poderia ser a correta, já que o produto não necessariamente precisa ser comprado para ser cadastrado no banco. Entretanto, nesse caso não haveria a relação de compra com o cliente, já que ele ficaria armazenado no estoque.\n",
    "\n",
    "A resposta correta nesse caso é a **a)**, pois quando um produto é comprado por um cliente, ele passa a ser exclusivo daquele cliente. Se outro cliente quiser aquele produto, terá que realizar uma outra compra, e comprar um outro produto, da mesma categoria, marca e preço, porém, o código desse produto será diferente. Logo, um outro produto idêntico terá sido comprado por outro cliente, sendo que essa relação é de **(1:1)**.\n",
    "\n",
    "Vamos alterar essa cardinalidade no nosso DER:"
   ]
  },
  {
   "cell_type": "markdown",
   "metadata": {},
   "source": [
    "<div style=\"display: flex; justify-content: center\">\n",
    "    <img src=\"../assets/brmodelo-tela-20.png\" alt=\"Tela brModelo\" />\n",
    "</div>"
   ]
  },
  {
   "cell_type": "markdown",
   "metadata": {},
   "source": [
    "Pronto! Você aprendeu sobre Relações no DER. Parabéns!!!"
   ]
  }
 ],
 "metadata": {
  "language_info": {
   "name": "python"
  }
 },
 "nbformat": 4,
 "nbformat_minor": 2
}
