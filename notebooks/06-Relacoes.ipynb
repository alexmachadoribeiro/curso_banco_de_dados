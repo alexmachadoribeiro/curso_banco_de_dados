{
 "cells": [
  {
   "cell_type": "markdown",
   "metadata": {},
   "source": [
    "# **Relações**\n",
    "---"
   ]
  },
  {
   "cell_type": "markdown",
   "metadata": {},
   "source": [
    "## Requisitos da aula\n",
    "\n",
    "- Banco de Dados Relacional\n",
    "- DER\n",
    "- Entidade e Atributos\n",
    "\n",
    "---"
   ]
  },
  {
   "cell_type": "markdown",
   "metadata": {},
   "source": [
    "Na aula anterior, criamos uma entidade e seus atributos, mas já sabemos que um banco não é formado por uma única entidade, mas sim por várias entidades, que possuem uma relação entre si. Hoje vamos estudar sobre essas relações, e como construí-las.\n",
    "\n",
    "## Revisando Cardinalidades\n",
    "---\n",
    "\n",
    "Em aulas anteriores, vimos algo sobre cardinalidades, que são nada mais do que os tipos de relações que podemos construir entre as entidades de um banco. A partir de agora, vamos nos aprofundar mais sobre elas, conforme prometido, mas antes, vamos revisar as cardinalidades:\n",
    "\n",
    "- **1:1 - Um-para-um**. Exemplo: um cliente de uma locadora de carros só poderá alugar um único carro por vez.\n",
    "- **1:N - Um-para-muitos**. Exemplo: um professor pode dar aula para várias turmas de qualificação do SENAI, mas uma turma de qualificação só pode ter um professor.\n",
    "- **N:M - Muito-para-muitos**. Exemplo: uma turma do ensino médio pode ter vários professores, e cada professor pode dar aula para mais de uma turma."
   ]
  },
  {
   "cell_type": "markdown",
   "metadata": {},
   "source": [
    "## Estabelecendo relações entre entidades no brModelo\n",
    "---\n",
    "\n",
    "Para que possamos ter uma relação entre diferentes entidades no brModelo, primeiro precisaremos de pelo menos 2 entidades. Portanto, abra o **brModelo** em um novo DER, e vamos criar inicialmente duas entidades: **Proprietário** e **Imóvel**. Defina corretamente seus atributos, e não se esqueça do atributo identificador. Para **Proprietário**, vamos definir **id_proprietario**, **nome** e **cpf**, apenas, e no **Imóvel** defina o **codigo_imovel**, **endereco**, **cep**, **uf**, **cidade**, **bairro**, **logradouro**, **complemento** e **numero**:"
   ]
  },
  {
   "cell_type": "markdown",
   "metadata": {},
   "source": [
    "<div style=\"display: flex; justify-content: center\">\n",
    "    <img src=\"../assets/brmodelo-tela-15.png\" alt=\"Tela brModelo\" />\n",
    "</div>"
   ]
  },
  {
   "cell_type": "markdown",
   "metadata": {},
   "source": [
    "Pronto! Agora que temos 2 entidades, podemos estabelecer uma relação entre elas no diagrama. Essa relação é estabelecida pelo símbolo do **losango** que se encontra na barra de artefatos:"
   ]
  },
  {
   "cell_type": "markdown",
   "metadata": {},
   "source": [
    "<div style=\"display: flex; justify-content: center\">\n",
    "    <img src=\"../assets/brmodelo-relacoes.png\" alt=\"Tela brModelo\" />\n",
    "</div>"
   ]
  },
  {
   "cell_type": "markdown",
   "metadata": {},
   "source": [
    "Insira o símbolo de relação entre entidades no diagrama, conforme mostrado na imagem abaixo:"
   ]
  },
  {
   "cell_type": "markdown",
   "metadata": {},
   "source": [
    "<div style=\"display: flex; justify-content: center\">\n",
    "    <img src=\"../assets/brmodelo-tela-16.png\" alt=\"Tela brModelo\" />\n",
    "</div>"
   ]
  },
  {
   "cell_type": "markdown",
   "metadata": {},
   "source": [
    "Agora que existe um relacionamento no diagrama, precisamos dizer de quem é essa relação, e que relação é essa. Na barra de artefatos temos um elemento que faz a ligação entre a relação e as entidades. Veja o símbolo:\n",
    "\n"
   ]
  },
  {
   "cell_type": "markdown",
   "metadata": {},
   "source": [
    "<div style=\"display: flex; justify-content: center\">\n",
    "    <img src=\"../assets/brmodelo-ligacao.png\" alt=\"Tela brModelo\" />\n",
    "</div>"
   ]
  },
  {
   "cell_type": "markdown",
   "metadata": {},
   "source": [
    "Clique nesse símbolo, depois clique na relação, e depois em uma das entidades. E após isso, repita a operação com a outra entidade:"
   ]
  },
  {
   "cell_type": "markdown",
   "metadata": {},
   "source": [
    "<div style=\"display: flex; justify-content: center\">\n",
    "    <img src=\"../assets/brmodelo-tela-17.png\" alt=\"Tela brModelo\" />\n",
    "</div>"
   ]
  },
  {
   "cell_type": "markdown",
   "metadata": {},
   "source": [
    "Observe que automaticamente ele coloca o texto **(0,n)** em cima das duas linhas. São as cardinalidades, e iremos precisar editá-las mais para frente. Antes disso, precisamos definir qual o nome da relação entre **Proprietário** e **Imóvel**. Por exemplo: um cliente pode **possuir** um imóvel, que por sua vez pode ser possuído por um proprietário. Então vamos editar o relacionamento no diagrama:"
   ]
  },
  {
   "cell_type": "markdown",
   "metadata": {},
   "source": [
    "<div style=\"display: flex; justify-content: center\">\n",
    "    <img src=\"../assets/brmodelo-tela-18.png\" alt=\"Tela brModelo\" />\n",
    "</div>"
   ]
  },
  {
   "cell_type": "markdown",
   "metadata": {},
   "source": [
    "Ok! Agora vamos editar as cardinalidades nas duas extremidades da relação. Começaremos pelo **Proprietário**. Se a relação entre Proprietário e Imóvel é **Possui**, um Proprietário pode possuir quantos imóveis?\n",
    "\n",
    "**a)** Um imóvel.<br />\n",
    "**b)** Nenhum imóvel. <br />\n",
    "**c)** Vários imóveis.\n",
    "\n",
    "Se a resposta para essa pergunta for a letra **a)**, isso significa que o proprietário só poderá possuir um único imóvel, mas não poderá possuir outros. Por outro lado, se a resposta for a letra **b)**, isso significa que o proprietário jamais poderá possuir imóvel algum, logo, ele não poderá ser um proprietário.\n",
    "\n",
    "Já na resposta **c)**, o proprietário poderá possuir ao mesmo tempo vários imóveis, quantos ele quiser, dependendo única e exclusivamente da sua renda. Logo, a resposta certa é letra **c)**. Dessa forma, a cardinalidade correta do lado do proprietário é **(1:n)**, e por isso, precisaremos editá-la.\n",
    "\n",
    "Clique na cardinalidade do Proprietário, e mude na barra de propriedades para **(1:n)**, conforme imagem abaixo:"
   ]
  },
  {
   "cell_type": "markdown",
   "metadata": {},
   "source": [
    "<div style=\"display: flex; justify-content: center\">\n",
    "    <img src=\"../assets/brmodelo-tela-19.png\" alt=\"Tela brModelo\" />\n",
    "</div>"
   ]
  },
  {
   "cell_type": "markdown",
   "metadata": {},
   "source": [
    "Repetiremos o mesmo processo com o **Imóvel**, nos perguntando também qual a cardinalidade correta a ser aplicada no produto:\n",
    "\n",
    "**a)** Um imóvel pode ser comprado por um único proprietário. <br />\n",
    "**b)** Um imóvel pode ser comprado por nenhum proprietário. <br />\n",
    "**c)** Um imóvel pode ser comprado por vários proprietário.\n",
    "\n",
    "Se a resposta for **a)**, aquele imóvel será exclusivo do proprietário que pagou por ele. Se a resposta for **b)**, significa que o imóvel não possui nenhum proprietário, e portanto, está vazio. Já no caso da resposta **c)**, o mesmo imóvel poderá ser usado por proprietários diferentes, o que significa que nesse caso, um proprietário não será o único dono dele.\n",
    "\n",
    "Imagine que você tenha comprado um imóvel e se muda para sua nova aquisição. Como você poderá morar nele se já existe outra família morando lá? Quem é o responsável pelo imóvel? A cardinalidade do imóvel não pode ser de (1:n), que é a mesma do proprietário. Consequentemente, a resposta **c)** não pode ser a correta. A resposta **b)** poderia ser a correta, já que o imóvel não necessariamente precisa ter um proprietário para ser cadastrado no banco de dados. Entretanto, nesse caso não haveria a relação com o proprietário, já que não haveria dono legal.\n",
    "\n",
    "A resposta correta nesse caso é a **a)**, pois quando um imóvel é comprado por um proprietário, ele passa a ser exclusivo daquele proprietário. Se outro proprietário quiser um imóvel naquele lugar, terá que realizar uma outra compra, e comprar um outro imóvel, no mesmo CEP, mas será um imóvel diferente. Logo, um outro imóvel idêntico terá sido comprado por outro proprietário, sendo que essa relação é de **(1:1)**.\n",
    "\n",
    "Vamos alterar essa cardinalidade no nosso DER:"
   ]
  },
  {
   "cell_type": "markdown",
   "metadata": {},
   "source": [
    "<div style=\"display: flex; justify-content: center\">\n",
    "    <img src=\"../assets/brmodelo-tela-20.png\" alt=\"Tela brModelo\" />\n",
    "</div>"
   ]
  },
  {
   "cell_type": "markdown",
   "metadata": {},
   "source": [
    "Pronto! Você aprendeu sobre Relações no DER. Parabéns!!!"
   ]
  }
 ],
 "metadata": {
  "language_info": {
   "name": "python"
  }
 },
 "nbformat": 4,
 "nbformat_minor": 2
}
