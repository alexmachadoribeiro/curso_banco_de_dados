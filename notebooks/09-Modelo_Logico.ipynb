{
 "cells": [
  {
   "cell_type": "markdown",
   "metadata": {},
   "source": [
    "# **Modelo Lógico**\n",
    "---"
   ]
  },
  {
   "cell_type": "markdown",
   "metadata": {},
   "source": [
    "## Requisitos da Aula\n",
    "\n",
    "- Banco de Dados Relacional\n",
    "- DER\n",
    "- Relações\n",
    "- Entidade Associativa\n",
    "\n",
    "---"
   ]
  },
  {
   "cell_type": "markdown",
   "metadata": {},
   "source": [
    "Uma vez que o **Modelo Conceitual** foi gerado, chegou a hora de montar o **Modelo Lógico**. Esse modelo é nada mais do que um diagrama mais detalhado do Banco de Dados, que mostra as entidades já como tabelas, e seus atributos como campos já bem definidos, normalizados e com a descrição exata do *range* de cada campo, além de seus respectivos **tipos de dados**. Voltando para a analogia da construção de uma casa feita em aulas anteriores, a montagem do modelo lógico seria o equivalente à planta do projeto, com suas medidas já bem definidas.\n",
    "\n",
    "Existem vários softwares que trabalham com a construção do modelo lógico, incluindo aí o próprio brModelo, visto nas aulas anteriores. Entretanto, o próprio MySQL possui um software chamado **Workbench**, que serve tanto para a montagem do modelo físico, que iremos ver em aulas futuras, quanto para a construção do modelo lógico, que iremos começar a ver agora. Logo, nada melhor do que usar um software oficial, não é mesmo?!"
   ]
  },
  {
   "cell_type": "markdown",
   "metadata": {},
   "source": [
    "## Usando o Workbench para montar o Modelo Lógico do Banco de Dados\n",
    "---\n",
    "\n",
    "**Obs:** não há a necessidade de inicializar um servidor de banco de dados para a construção do modelo lógico. Apenas para o modelo físico.\n",
    "\n",
    "1. A primeira coisa a se fazer é, obviamente, abrir o programa **MySQL Workbench** instalado no seu computador:"
   ]
  },
  {
   "cell_type": "markdown",
   "metadata": {},
   "source": [
    "<div style=\"display: flex; justify-content: center\">\n",
    "    <img src=\"../assets/abrindo-workbench.png\" alt=\"Abrindo o Workbench\" />\n",
    "</div>"
   ]
  },
  {
   "cell_type": "markdown",
   "metadata": {},
   "source": [
    "2. Ao abrir o **MySQL Workbench**, a janela abaixo irá aparecer na sua Área de Trabalho:"
   ]
  },
  {
   "cell_type": "markdown",
   "metadata": {},
   "source": [
    "<div style=\"display: flex; justify-content: center\">\n",
    "    <img src=\"../assets/workbench-01.png\" alt=\"MySQL Workbench\" />\n",
    "</div>"
   ]
  },
  {
   "cell_type": "markdown",
   "metadata": {},
   "source": [
    "3. Na parte à esquerda da janela, logo abaixo do símbolo de um golfinho, existe uma gravura de três quadrados ligados entre si. Clique nele, conforme indicado abaixo:"
   ]
  },
  {
   "cell_type": "markdown",
   "metadata": {},
   "source": [
    "<div style=\"display: flex; justify-content: center\">\n",
    "    <img src=\"../assets/workbench-02.png\" alt=\"MySQL Workbench\" />\n",
    "</div>"
   ]
  },
  {
   "cell_type": "markdown",
   "metadata": {},
   "source": [
    "4. Na tela que se abrir, irão ser exibidos os modelos lógicos criados por você (que nesse caso será nenhum). **Clique no botão de + do lado da palavra Models**, conforme imagem abaixo:"
   ]
  },
  {
   "cell_type": "markdown",
   "metadata": {},
   "source": [
    "<div style=\"display: flex; justify-content: center\">\n",
    "    <img src=\"../assets/workbench-03.png\" alt=\"MySQL Workbench\" />\n",
    "</div>"
   ]
  },
  {
   "cell_type": "markdown",
   "metadata": {},
   "source": [
    "5. Ele irá abrir uma nova guia de trabalho na janela do seu Workbench. Nessa nova guia, você irá dar um **duplo clique** em **Add Diagram**, conforme imagem abaixo:"
   ]
  },
  {
   "cell_type": "markdown",
   "metadata": {},
   "source": [
    "<div style=\"display: flex; justify-content: center\">\n",
    "    <img src=\"../assets/workbench-04.png\" alt=\"MySQL Workbench\" />\n",
    "</div>"
   ]
  },
  {
   "cell_type": "markdown",
   "metadata": {},
   "source": [
    "## Criando um Modelo Lógico\n",
    "---\n",
    "\n",
    "Não importa muito se você usa ou não o Workbench para montar o modelo lógico, o procedimento não muda muito de um software para outro, e o que veremos a seguir é meio que comum para todos eles, já que o modelo lógico segue um padrão. Para fins didáticos, iremos utilizar o Workbench para esse tutorial, mas sinta-se livre para usar outro software.\n",
    "\n",
    "6. Quando você deu um duplo clique em **Add Diagram**, o Workbench abriu uma segunda guia. Nela, você pode observar uma espécie de tela de desenho, similar ao que você viu no brModelo quando estava criando o modelo conceitual. À esquerda dessa tela de desenho, você tem uma barra contendo todos os elementos necessários para criarmos o nosso modelo:"
   ]
  },
  {
   "cell_type": "markdown",
   "metadata": {},
   "source": [
    "<div style=\"display: flex; justify-content: center\">\n",
    "    <img src=\"../assets/workbench-05.png\" alt=\"MySQL Workbench\" />\n",
    "</div>"
   ]
  },
  {
   "cell_type": "markdown",
   "metadata": {},
   "source": [
    "7. Nessa barra, você encontra um elemento chamado **Table**, ou **Tabela**. É ele que irá representar cada entidade que criamos no nosso modelo conceitual. Clique nele e depois clique na área de desenho:"
   ]
  },
  {
   "cell_type": "markdown",
   "metadata": {},
   "source": [
    "<div style=\"display: flex; justify-content: center\">\n",
    "    <img src=\"../assets/workbench-06.png\" alt=\"MySQL Workbench\" />\n",
    "</div>"
   ]
  },
  {
   "cell_type": "markdown",
   "metadata": {},
   "source": [
    "8. Nas primeiras aulas de modelo conceitual, criamos uma entidade chamada **Usuario**. Para fins didáticos, iremos pegar essa mesma entidade e criá-la aqui no modelo lógico, conforme ela foi planejada lá no modelo conceitual inicialmente. Para isso, vamos dar um clique duplo em cima da tabela criada aqui no Workbench para que possamos abrir o **painel de propriedades da tabela**:"
   ]
  },
  {
   "cell_type": "markdown",
   "metadata": {},
   "source": [
    "<div style=\"display: flex; justify-content: center\">\n",
    "    <img src=\"../assets/workbench-07.png\" alt=\"MySQL Workbench\" />\n",
    "</div>"
   ]
  },
  {
   "cell_type": "markdown",
   "metadata": {},
   "source": [
    "9. Nesse painel, podemos modificar o nome da nossa entidade, adicionar os atributos, e o que é novidade aqui no modelo lógico: alterar o tipo (type) e tamanho (range) dos dados que o nosso banco irá receber.\n",
    "10. Inicialmente, vamos apenas renomear o nome da nossa tabela para o nome da nossa entidade:"
   ]
  },
  {
   "cell_type": "markdown",
   "metadata": {},
   "source": [
    "<div style=\"display: flex; justify-content: center\">\n",
    "    <img src=\"../assets/workbench-08.png\" alt=\"MySQL Workbench\" />\n",
    "</div>"
   ]
  },
  {
   "cell_type": "markdown",
   "metadata": {},
   "source": [
    "Continua..."
   ]
  }
 ],
 "metadata": {
  "language_info": {
   "name": "python"
  }
 },
 "nbformat": 4,
 "nbformat_minor": 2
}
