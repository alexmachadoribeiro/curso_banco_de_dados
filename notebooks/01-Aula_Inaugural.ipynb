{
 "cells": [
  {
   "cell_type": "markdown",
   "metadata": {},
   "source": [
    "# **Aula Inaugural**\n",
    "---"
   ]
  },
  {
   "cell_type": "markdown",
   "metadata": {},
   "source": [
    "<div style=\"display: flex; justify-content: center\">\n",
    "    <img src=\"../assets/mysql_PNG15.png\" alt=\"Logo do Banco de Dados\" />\n",
    "</div>"
   ]
  },
  {
   "cell_type": "markdown",
   "metadata": {},
   "source": [
    "## Pré-requisitos da aula:\n",
    "\n",
    "- Ter se matriculado\n",
    "- Estar interessado no curso e no conteúdo\n",
    "- Conhecimentos sólidos de Operador de Micro (Informática básica)\n",
    "- Ensino Médio (incompleto)\n",
    "- Digitação\n",
    "\n",
    "---\n",
    "\n",
    "## Dados do curso:\n",
    "---"
   ]
  },
  {
   "cell_type": "markdown",
   "metadata": {},
   "source": [
    "### Curso:\n",
    "\n",
    "**Nome do curso:** Administrador de Banco de Dados <br />\n",
    "**Duração do curso:** 240 horas <br />\n",
    "**Duração das aulas (diurno):** 4 horas <br />\n",
    "**Duração das aulas (noturno):** 3 horas <br />\n",
    "**Horas por semana (diurno):** 20 horas <br />\n",
    "**Horas por semana (noturno):** 15 horas <br />\n",
    "**Instrutor:** Alex Machado Ribeiro <br />\n",
    "**Unidade:** SENAI SIG/Taguatinga/Gama <br />\n",
    "\n",
    "#### Conteúdo do curso:\n",
    "\n",
    "- Aula inaugural\n",
    "- Introdução ao Processamento de Dados\n",
    "- Introdução à Lógica de Programação\n",
    "- Introdução ao Banco de Dados\n",
    "- História do Banco de Dados\n",
    "- Tipos de Banco de Dados\n",
    "- SGBDs\n",
    "- Banco de Dados Relacionais\n",
    "- Modelo conceitual\n",
    "- Entidade, Atributos e Relacionamentos\n",
    "- Cardinalidades\n",
    "- Modelo Lógico\n",
    "- Tabelas, Linhas, Colunas, Campos, Registros e Tuplas\n",
    "- Tipos de Dados\n",
    "- Range\n",
    "- Normalização\n",
    "- Instalação do SGBD\n",
    "- Conexão com Servidor\n",
    "- SQL\n",
    "- DDL\n",
    "- DML\n",
    "- DQL\n",
    "- DCL\n",
    "- Scripts\n",
    "- Backups\n",
    "- Importação\n",
    "- Migração\n",
    "- Views\n",
    "- Triggers\n",
    "- Stored Procedure\n",
    "- Funções"
   ]
  },
  {
   "cell_type": "markdown",
   "metadata": {},
   "source": [
    "## Currículo do Instrutor:\n",
    "---"
   ]
  },
  {
   "cell_type": "markdown",
   "metadata": {},
   "source": [
    "**Nome:** Alex Machado Ribeiro <br />\n",
    "**Idade:** 39 anos <br />\n",
    "**Formação:** \n",
    "- Técnico em Informática pela ETB;\n",
    "- Bacharel em Sistemas de Informação pela Faculdade Anhanguera FACNET.\n",
    "\n",
    "**Experiência:**\n",
    "- **Profissional de TI:** 19 anos.\n",
    "- **Instrutor de TI:** 18 anos.\n",
    "- **Instrutor do SENAI:** 10 anos.\n",
    "- **Programador:** 10 anos.\n",
    "\n",
    "**Linguagens de programação:**\n",
    "- PHP\n",
    "- C/C++\n",
    "- C#\n",
    "- Dart\n",
    "- JavaScript\n",
    "- Java\n",
    "- Python"
   ]
  },
  {
   "cell_type": "markdown",
   "metadata": {},
   "source": [
    "## Plataformas utilizadas:\n",
    "---"
   ]
  },
  {
   "cell_type": "markdown",
   "metadata": {},
   "source": [
    "- Meu SENAI\n",
    "- Google Classroom\n",
    "- GitHub"
   ]
  },
  {
   "cell_type": "markdown",
   "metadata": {},
   "source": [
    "## Metodologia de avaliação:\n",
    "---"
   ]
  },
  {
   "cell_type": "markdown",
   "metadata": {},
   "source": [
    "**Presença:** 75% = 60 horas = 20 aulas <br />\n",
    "**Aproveitamento de nota:** 70% <br />\n",
    "**Avaliações:**\n",
    "- Assiduidade (presença nas aulas)\n",
    "- Pontualidade (entrada em sala de aula dentro do horário)\n",
    "- Participação (tirar dúvidas e responder às perguntas do professor quando solicitado)\n",
    "- Comportamento (manter a postura dentro de sala de aula)\n",
    "- Atividades (entregar corretamente as atividades dentro do prazo)\n",
    "- Projetos (entregar corretamente os projetos dentro do prazo)"
   ]
  }
 ],
 "metadata": {
  "kernelspec": {
   "display_name": ".venv",
   "language": "python",
   "name": "python3"
  },
  "language_info": {
   "name": "python",
   "version": "3.12.7"
  }
 },
 "nbformat": 4,
 "nbformat_minor": 2
}
