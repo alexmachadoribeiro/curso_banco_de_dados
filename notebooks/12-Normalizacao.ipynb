{
 "cells": [
  {
   "cell_type": "markdown",
   "metadata": {},
   "source": [
    "# **Normalização**\n",
    "---"
   ]
  },
  {
   "cell_type": "markdown",
   "metadata": {},
   "source": [
    "## Requisitos da Aula\n",
    "\n",
    "- Banco de Dados Relacional\n",
    "- DER\n",
    "- Entidade e Atributos\n",
    "- Relações\n",
    "- Entidade Associativa\n",
    "- Modelo Lógico\n",
    "- Relacionamento Modelo Lógico\n",
    "\n",
    "---"
   ]
  },
  {
   "cell_type": "markdown",
   "metadata": {},
   "source": [
    "Imagine que você precise cadastrar um usuário. Um dos campos é Telefone, onde você irá informar UM telefone desse usuário. Mas e se por acaso o usuário tiver mais de um telefone, e pior: e se ele precisar cadastrar mais de um telefone? Esse é um exemplo de problema que muitos Administradores de Banco de Dados acabam encontrando na hora de criar seus bancos. A aula de hoje vai ensinar como evitar esse tipo de problema, e muitos outros, na construção do seu banco."
   ]
  },
  {
   "cell_type": "markdown",
   "metadata": {},
   "source": [
    "## Conceito de Normalização\n",
    "---\n",
    "\n",
    "Normalização de dados é o processo de organizar informações em uma base de dados, de modo a torná-la mais flexível e evitar redundância. A normalização é indispensável desde o momento em que a base de dados for desenhada. Ela torna-se ainda mais crítica à medida que os dados se acumulam."
   ]
  },
  {
   "cell_type": "markdown",
   "metadata": {},
   "source": [
    "## As formas normais\n",
    "---\n",
    "\n",
    "Todo banco de dados relacional precisa ser normalizado a fim de evitar problemas de redundância, de cadastro e de performance. Atualmente, existem 5 formas normais, das quais chamamos de **FN**. Embora as duas últimas sejam importantes e ajudam na manutenção e performance do banco, somente as 3 primeiras são realmente obrigatórias, e serão elas o objeto de estudo dessa aula."
   ]
  },
  {
   "cell_type": "markdown",
   "metadata": {},
   "source": [
    "### 1FN - Primeira Forma Normal\n",
    "\n",
    "A principal característica da 1FN é que cada coluna em uma tabela deve conter apenas valores atômicos, ou seja, indivisíveis. Isso significa que não podemos ter listas de valores ou estruturas complexas dentro de uma única célula. Além disso, cada linha deve ser única e deve haver uma chave primária para identificar cada registro.\n",
    "\n",
    "Vamos criar um banco como exemplo. Observe o modelo conceitual abaixo:"
   ]
  },
  {
   "cell_type": "markdown",
   "metadata": {},
   "source": [
    "<div style=\"display: flex; justify-content: center\">\n",
    "    <img src=\"../assets/12-01.png\" alt=\"1FN Conceitual\" />\n",
    "</div>"
   ]
  },
  {
   "cell_type": "markdown",
   "metadata": {},
   "source": [
    "A julgar pelo modelo conceitual, precisaríamos de apenas uma tabela, não é verdade? Então vamos criar essa tabela no modelo lógico:"
   ]
  },
  {
   "cell_type": "markdown",
   "metadata": {},
   "source": [
    "<div style=\"display: flex; justify-content: center\">\n",
    "    <img src=\"../assets/12-02.png\" alt=\"1FM\" />\n",
    "</div>"
   ]
  },
  {
   "cell_type": "markdown",
   "metadata": {},
   "source": [
    "Pois bem. De acordo com a Primeira Forma Normal, essa tabela está errada, visto que o usuário não conseguiria cadastrar mais de um telefone, caso precisasse, nem conseguiria preencher de forma legível o endereço, cujo campo é complexo demais e possui uma lista de valores, o que vai exatamente contra a 1FN. Portanto, precisamos corrigir isso."
   ]
  },
  {
   "cell_type": "markdown",
   "metadata": {},
   "source": [
    "### Corrigindo a tabela para se adequar à 1FN\n",
    "\n",
    "Vamos começar pelo mais simples: uma tabela não pode ter um campo que possa possuir mais de um valor, como o campo **telefone**, por exemplo. Portanto, precisaremos separar esse campo. A grande pergunta é: como?\n",
    "\n",
    "Bastante simples: vamos criar uma segunda tabela somente para o campo telefone, deletá-la da tabela Usuario e associá-la à tabela **Usuario**. Veja como fica na imagem abaixo:"
   ]
  },
  {
   "cell_type": "markdown",
   "metadata": {},
   "source": [
    "<div style=\"display: flex; justify-content: center\">\n",
    "    <img src=\"../assets/12-03.png\" alt=\"1FN\" />\n",
    "</div>"
   ]
  },
  {
   "cell_type": "markdown",
   "metadata": {},
   "source": [
    "Observe que a chave primária da tabela **Telefone** organiza os telefones cadastrados, enquanto que a chave estrangeira dessa mesma tabela faz a relação com a tabela Usuario.\n",
    "\n",
    "**Obs:** apesar de ser um número, o campo telefone é um `VARCHAR`, pois ele possui outros caracteres, como parênteses e traços, que impossibilitam o seu cadastro como `INT`. Mesmo assim, esse número não é \"calculável\". Lembre-se da regra: se não vai fazer parte de um cálculo, não precisa ser `INT`.\n",
    "\n",
    "A nossa tabela ainda não está normalizada, pois o campo `endereco` também fere a regra da 1FN, já que ele possui subcampos demais para se colocar em uma única coluna. Portanto, faremos o mesmo que fizemos com o telefone: separamos o endereço em outra tabela e a relacionamos com a tabela Usuario:"
   ]
  },
  {
   "cell_type": "markdown",
   "metadata": {},
   "source": [
    "<div style=\"display: flex; justify-content: center\">\n",
    "    <img src=\"../assets/12-04.png\" alt=\"1FN\" />\n",
    "</div>"
   ]
  },
  {
   "cell_type": "markdown",
   "metadata": {},
   "source": [
    "Agora sim! A tabela **Usuario** está dentro da 1FN. Agora só precisaremos verificar se ela se encontra dentro das outras FN também."
   ]
  }
 ],
 "metadata": {
  "language_info": {
   "name": "python"
  }
 },
 "nbformat": 4,
 "nbformat_minor": 2
}
