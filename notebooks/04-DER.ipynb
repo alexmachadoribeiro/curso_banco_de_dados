{
 "cells": [
  {
   "cell_type": "markdown",
   "metadata": {},
   "source": [
    "# **DER - Diagrama Entidade-Relacionamento**\n",
    "---"
   ]
  },
  {
   "cell_type": "markdown",
   "metadata": {},
   "source": [
    "\n",
    "## Requisitos da aula\n",
    "\n",
    "- Banco de Dados Relacional\n",
    "\n",
    "---"
   ]
  },
  {
   "cell_type": "markdown",
   "metadata": {},
   "source": [
    "Para criarmos um novo banco de dados, precisamo passar por 3 fases na seguinte ordem:\n",
    "\n",
    "1. Modelo Coneitual (DER)\n",
    "2. Modelo Lógico (MER)\n",
    "3. Modelo Físico (SQL)\n",
    "\n",
    "Pense da seguinte forma: Se o banco de dados fosse uma casa, primeiro precisamos criar um esboço de como será a nossa casa. Em um banco de dados, isso seria criar o **modelo conceitual**. Em seguida, precisaríamos criar a planta da casa, que irá conter os cômodos, suas posições e medidas exatas. Em um banco de dados, isso seria o **modelo lógico**. Só depois iriíamos, de fato, começar a construir a nossa casa, tijolo por tijolo. Em um banco de dados, isso seria começar a construir o **modelo físico**.\n",
    "\n",
    "A partir dessa aula, iremos aprender sobre o **Modelo Conceitual**, do qual utilizamos o **Diagrama Entidade-Relacionamento**, também conhecido como **DER**. Mas antes, precisaremos conhecer sobre o *software* que iremos trabalhar."
   ]
  },
  {
   "cell_type": "markdown",
   "metadata": {},
   "source": [
    "## brModelo\n",
    "---\n",
    "\n",
    "### O que é o brModelo?\n",
    "\n",
    "O **brModelo** é um *software* gratuíto leve criado para que possamos desenvolver os diagramos dos nossos futuros bancos de dados. Nesta aula, você será apresentado à aplicação.\n",
    "\n",
    "### Onde baixar?\n",
    "\n",
    "No momento da criação dessa aposilta, a versão mais recente do brModelo se encontrava na **3.3**, e pode ser baixada através desse link:\n",
    "\n",
    "http://www.sis4.com/brModelo/download.html\n",
    "\n",
    "Há ainda uma versão web que roda diretamente do navegador, que pode ser acessada nesse link (é necessário criar uma conta):\n",
    "\n",
    "https://www.brmodeloweb.com/lang/pt-br/index.html\n",
    "\n",
    "O mais recomendado é baixar a versão desktop e executar diretamente da sua máquina, mas fica a seu critério.\n",
    "\n",
    "### Requisitos mínimos para rodar\n",
    "\n",
    "Felizmente, a versão desktop é bastante leve e pode ser executado em qualquer máquina, desde que possua o Java 8 ou superior instalado (JRE 1.8<). Mas por motivos de que esse não será o único *software* que usaremos no curso, e também pelo fato de que os próximos programas serão bem mais pesados, é recomendado **Windows 10** ou superior com o Java (JRE) mais recente instalado.\n",
    "\n",
    "Já a versão web pode rodar diretamente no navegador, e por esse motivo você só precisa de um navegador de Internet compatível de sua preferência, sendo o mais recomendado um SO **Windows 10** ou superior, para que possa rodar as versões mais recentes dos navegadores mais usados do mercado, de preferência o Chrome, Firefox, Opera, Chromium ou Edge.\n",
    "\n",
    "### Como instalar\n",
    "\n",
    "Não há a necessidade de instalação de nehuma das versões. A versão desktop possui um executável que abre o programa sem a necessidade de instalação, podendo ser executada do diretório onde estiver armazenado, inclusive diretamente de um pen drive, se assim desejar. Basta dar um clique duplo no arquivo executável e ser feliz.\n",
    "\n",
    "Já a versão web basta abrir o navegador de sua preferência e acessar o link https://www.brmodeloweb.com/lang/pt-br/index.html. Caso seja o seu primeiro acesso, crie uma conta no site. Caso contrário, faça o login e seja feliz.\n",
    "\n",
    "No nosso tutorial iremos usar a versão **desktop**.\n",
    "\n",
    "Ao iniciar o download, irá baixar para o seu PC um arquivo **ZIP**, como visto na tela abaixo:"
   ]
  },
  {
   "cell_type": "markdown",
   "metadata": {},
   "source": [
    "<div style=\"display: flex; justify-content: center\">\n",
    "    <img src=\"../assets/br-modelo-zip.png\" alt=\"brModelo.zip\" />\n",
    "</div>"
   ]
  },
  {
   "cell_type": "markdown",
   "metadata": {},
   "source": [
    "Faça o procedimento para descompactar o arquivo (nesse caso, iremos descompactar na **Área de Trabalho** do seu computador, mas fica à seu critério)."
   ]
  },
  {
   "cell_type": "markdown",
   "metadata": {},
   "source": [
    "<div style=\"display: flex; justify-content: center\">\n",
    "    <img src=\"../assets/br-modelo-pasta.png\" alt=\"brModelo pasta\" />\n",
    "</div>"
   ]
  },
  {
   "cell_type": "markdown",
   "metadata": {},
   "source": [
    "Abra a pasta, e lá dentro iremos encontrar alguns arquivos. Iremos abrir o arquivo **brModelo.jar**, conforme imagem abaixo:"
   ]
  },
  {
   "cell_type": "markdown",
   "metadata": {},
   "source": [
    "<div style=\"display: flex; justify-content: center\">\n",
    "    <img src=\"../assets/brModelo-jar.png\" alt=\"brModelo.jar\" />\n",
    "</div>"
   ]
  },
  {
   "cell_type": "markdown",
   "metadata": {},
   "source": [
    "Ao abrir o arquivo, você encontrará a tela abaixo, que corresponde ao programa **brModelo**:"
   ]
  },
  {
   "cell_type": "markdown",
   "metadata": {},
   "source": [
    "<div style=\"display: flex; justify-content: center\">\n",
    "    <img src=\"../assets/brmodelo-tela-01.png\" alt=\"Tela brModelo\" />\n",
    "</div>"
   ]
  },
  {
   "cell_type": "markdown",
   "metadata": {},
   "source": [
    "### Conhecendo a tela do brModelo\n",
    "\n",
    "Antes de iniciarmos os nossos trabalhos com o programa, vamos conhecer alguns elementos:"
   ]
  },
  {
   "cell_type": "markdown",
   "metadata": {},
   "source": [
    "<div style=\"display: flex; justify-content: center\">\n",
    "    <img src=\"../assets/brmodelo-tela-02.png\" alt=\"Tela brModelo\" />\n",
    "</div>"
   ]
  },
  {
   "cell_type": "markdown",
   "metadata": {},
   "source": [
    "A área destacada é a Área de Trabalho do programa, onde iremos desenhar o nosso diagrama."
   ]
  },
  {
   "cell_type": "markdown",
   "metadata": {},
   "source": [
    "<div style=\"display: flex; justify-content: center\">\n",
    "    <img src=\"../assets/brmodelo-tela-03.png\" alt=\"Tela brModelo\" />\n",
    "</div>"
   ]
  },
  {
   "cell_type": "markdown",
   "metadata": {},
   "source": [
    "Á direita da janela temos a **barra de artefatos**, que contém os elementos que iremos utilizar para construirmos os nossos diagramas."
   ]
  },
  {
   "cell_type": "markdown",
   "metadata": {},
   "source": [
    "<div style=\"display: flex; justify-content: center\">\n",
    "    <img src=\"../assets/brmodelo-tela-04.png\" alt=\"Tela brModelo\" />\n",
    "</div>"
   ]
  },
  {
   "cell_type": "markdown",
   "metadata": {},
   "source": [
    "Á esquerda da janela, temos o **painel de propriedades dos artefatos**. É nele que iremos editar os elementos visuais do nosso diagrama.\n",
    "\n",
    "A partir desse momento, iremos criar nossos DER nessa tela, mas caso não consiga utilizar o programa brModelo, o diagrama pode ser feito em uma folha de papel desenhando. Nas próximas aulas iremos, além de mostrar como desenhar o diagrama pelo programa, mostrar também quais as formas dos diagramas que iremos utilizar.\n",
    "\n",
    "Por hoje é só pessoal."
   ]
  }
 ],
 "metadata": {
  "language_info": {
   "name": "python"
  }
 },
 "nbformat": 4,
 "nbformat_minor": 2
}
