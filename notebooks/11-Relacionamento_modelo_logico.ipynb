{
 "cells": [
  {
   "cell_type": "markdown",
   "metadata": {},
   "source": [
    "# **Relacionamento no Modelo Lógico**\n",
    "---"
   ]
  },
  {
   "cell_type": "markdown",
   "metadata": {},
   "source": [
    "## Requisitos da Aula\n",
    "\n",
    "- Banco de Dados Relacional\n",
    "- DER\n",
    "- Relações\n",
    "- Modelo Lógico\n",
    "- Tipos de Dados\n",
    "\n",
    "---"
   ]
  },
  {
   "cell_type": "markdown",
   "metadata": {},
   "source": [
    "Agora iremos retornar ao assunto de relacionamentos, os mesmos mostrados na aula sobre Relações, porém, desta vez, iremos mostrar como elas funcionam no modelo lógico.\n",
    "\n",
    "Para isso, iremos partir de um modelo conceitual feito anteriormente, justamente na aula sobre Relações. Abra o arquivo em questão no **brModelo**:"
   ]
  },
  {
   "cell_type": "markdown",
   "metadata": {},
   "source": [
    "<div style=\"display: flex; justify-content: center\">\n",
    "    <img src=\"../assets/11-01.png\" alt=\"MySQL Workbench\" />\n",
    "</div>"
   ]
  },
  {
   "cell_type": "markdown",
   "metadata": {},
   "source": [
    "O desafio desse tutorial é justamente montar o modelo lógico do banco mostrado na figura acima.\n",
    "\n",
    "Logo de cara já é possível afirmar que precisaremos, no mínimo, de duas tabelas: **Proprietário** e **Imóvel**. Então vamos lá, abrindo o **MySQL Workbench**, e já vamos logo na seção de modelos lógicos para criarmos um novo modelo lógico do zero:"
   ]
  },
  {
   "cell_type": "markdown",
   "metadata": {},
   "source": [
    "<div style=\"display: flex; justify-content: center\">\n",
    "    <img src=\"../assets/11-02.png\" alt=\"MySQL Workbench\" />\n",
    "</div>"
   ]
  },
  {
   "cell_type": "markdown",
   "metadata": {},
   "source": [
    "Logo após, dê um clique duplo em **Add Diagram**:"
   ]
  },
  {
   "cell_type": "markdown",
   "metadata": {},
   "source": [
    "<div style=\"display: flex; justify-content: center\">\n",
    "    <img src=\"../assets/workbench-04.png\" alt=\"MySQL Workbench\" />\n",
    "</div>"
   ]
  },
  {
   "cell_type": "markdown",
   "metadata": {},
   "source": [
    "Agora, crie uma tabela chamada **Proprietario** (sem acento) com os campos:\n",
    "\n",
    "- id_proprietario\n",
    "- nome\n",
    "- cpf\n",
    "\n",
    "### Algumas observações\n",
    "\n",
    "1. Observe que no modelo conceitual o **id_proprietario** está marcado como **atributo identificador**, o que identifica esse atributo como campo **chave primária** da tabela no modelo lógico.\n",
    "2. O campo **nome** deve ser **obrigatório**, já que não é possível cadastrar alguém sem nome.\n",
    "3. Podem existir pessoas com nomes **idênticos**. Portanto, esse campo **não pode ser not null**.\n",
    "4. O campo **cpf** também é **obrigatório**, já que não podemos cadastrar alguém sem CPF, mas neste caso, **não podem existir duas pessoas com o mesmo CPF**, já que ele é um cadastro único. Portanto, esse campo deve ser **obrigatoriamente UNIQUE**.\n",
    "\n",
    "Observe como vai ficar a tabela abaixo:"
   ]
  },
  {
   "cell_type": "markdown",
   "metadata": {},
   "source": [
    "<div style=\"display: flex; justify-content: center\">\n",
    "    <img src=\"../assets/11-03.png\" alt=\"MySQL Workbench\" />\n",
    "</div>"
   ]
  },
  {
   "cell_type": "markdown",
   "metadata": {},
   "source": [
    "Segue a configuração da tabela:\n",
    "\n",
    "- **id_proprietario**: INT. Marcar as colunas: PK, NN e AI.\n",
    "- **nome**: VARCHAR(255). Marcar a coluna: NN.\n",
    "- **cpf**: VARCHAR(14). Marcar as colunas: NN e UQ.\n",
    "\n",
    "Observe que o **cpf**, apesar de ser um número, não é `INT`, mas sim `VARCHAR`. Isso acontece por causa do que chamamos de **máscara de entrada**. Em resumo: o número do CPF contém caracteres que o desqualificam como um valor numérico para o banco de dados, já que ele possui os caracteres **.** (ponto) e **-** (hífen). Além disso, esse é um número que não será utilizado em cálculos. Portanto, podemos dexá-lo como `VARCHAR`.\n",
    "\n",
    "Agora podemos criar a outra tabela: a do **Imovel** (também sem acento). Observe que no modelo conceitual existe um campo chamado **endereço**, que é multivalorado. Quando isso acontece, precisamos dividí-lo em vários campos. Esses campos são mostrados no modelo conceitual como sub-atributos do atributo endereço. Veja como vai ficar:"
   ]
  },
  {
   "cell_type": "markdown",
   "metadata": {},
   "source": [
    "<div style=\"display: flex; justify-content: center\">\n",
    "    <img src=\"../assets/11-04.png\" alt=\"MySQL Workbench\" />\n",
    "</div>"
   ]
  },
  {
   "cell_type": "markdown",
   "metadata": {},
   "source": [
    "Pronto! Agora temos duas tabelas, e conforme diz o modelo conceitual, estão, ou pelo menos deveriam estar, relacionadas. Mas não se preocupe: é exatamente esse o nosso próximo passo. Feche as propriedades da tabela **Imovel**."
   ]
  },
  {
   "cell_type": "markdown",
   "metadata": {},
   "source": [
    "### Chave estrangeira\n",
    "\n",
    "Agora, observe as ferramentas do lado esquerdo da tela principal do modelo lógico, onde você puxou a ferramenta **tabela**:"
   ]
  },
  {
   "cell_type": "markdown",
   "metadata": {},
   "source": [
    "<div style=\"display: flex; justify-content: center\">\n",
    "    <img src=\"../assets/11-05.png\" alt=\"MySQL Workbench\" />\n",
    "</div>"
   ]
  },
  {
   "cell_type": "markdown",
   "metadata": {},
   "source": [
    "Na área marcada se encontram as ferramentas de relacionamento que nós vamos utilizar agora. Observe que elas utilizam a nomenclatura aprendida na aula sobre **Relações**, lembra? Para utilizá-las, precisaremos definir o tipo de relação entre as duas tabelas. Só que isso já foi feito lá no brModelo. É para isso que serve o modelo conceitual. Observe:"
   ]
  },
  {
   "cell_type": "markdown",
   "metadata": {},
   "source": [
    "<div style=\"display: flex; justify-content: center\">\n",
    "    <img src=\"../assets/11-06.png\" alt=\"MySQL Workbench\" />\n",
    "</div>"
   ]
  },
  {
   "cell_type": "markdown",
   "metadata": {},
   "source": [
    "Pela figura acima, podemos ver que um proprietário pode possuir mais de um imóvel. Entretanto, um imóvel só pode possuir um único proprietário. Isso significa que existe uma cardinalidade de **1:N** na relação entre as entidades. Isso deve ser replicado no modelo lógico também. Veremos como a seguir. Procure pelo símbolo que se parece com um pé de galinha, escrito **1:N** logo abaixo. Nesse símbolo, a linha deverá estar contínua, e não pontilhada. Verifique na imagem abaixo:"
   ]
  },
  {
   "cell_type": "markdown",
   "metadata": {},
   "source": [
    "<div style=\"display: flex; justify-content: center\">\n",
    "    <img src=\"../assets/11-07.png\" alt=\"Cardinalidades\" />\n",
    "</div>"
   ]
  },
  {
   "cell_type": "markdown",
   "metadata": {},
   "source": [
    "Clique nesse símbolo, e em seguida, na tabela que receberá a relação, no nosso caso, na tabela **Imovel**, e depois, clique na segunda tabela, **Proprietario**, exatamente nessa ordem. Se fizer tudo correto, o modelo lógico deverá ficar parecida com a da imagem abaixo:"
   ]
  },
  {
   "cell_type": "markdown",
   "metadata": {},
   "source": [
    "<div style=\"display: flex; justify-content: center\">\n",
    "    <img src=\"../assets/11-08.png\" alt=\"Modelo lógico\" />\n",
    "</div>"
   ]
  },
  {
   "cell_type": "markdown",
   "metadata": {},
   "source": [
    "Observe que, ao fazer isso, automaticamente foi criado um novo campo: **Proprietario_id_proprietario**, do tipo **INT**. Repare também que esse campo possui um símbolo de uma chave vermelha. Esse campo é o que chamamos de **Foreign Key**, ou **Chave Estrangeira**, também conhecida pela sigla **FK**.\n",
    "\n",
    "A chave estrangeira é um campo que serve para ligar uma tabela à outra, estabelecendo a relação entre as duas. Ela representa nada mais do que a chave primária da outra tabela. Assim, caso seja preciso fazer uma consulta pelos dados cadastrados nas duas tabelas, a chave estrangeira relaciona os dados de uma tabela com a outra. Essa chave estrangeira precisa ter, obrigatoriamente, as mesmas características de seu equivalente na outra tabela.\n",
    "\n",
    "Neste exemplo, a relação, como já dissemos anteriormente, é de **1:N**. Mas e nas outras cardinalidades? Veremos à seguir com outros exemplos."
   ]
  }
 ],
 "metadata": {
  "language_info": {
   "name": "python"
  }
 },
 "nbformat": 4,
 "nbformat_minor": 2
}
