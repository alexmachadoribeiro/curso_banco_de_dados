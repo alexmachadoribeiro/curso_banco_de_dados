{
 "cells": [
  {
   "cell_type": "markdown",
   "metadata": {},
   "source": [
    "# **Entidade Associativa**\n",
    "---"
   ]
  },
  {
   "cell_type": "markdown",
   "metadata": {},
   "source": [
    "## Requisitos da aula\n",
    "\n",
    "- Banco de Dados Relacional\n",
    "- DER\n",
    "- Entidade e Atributos\n",
    "- Relações\n",
    "\n",
    "---"
   ]
  },
  {
   "cell_type": "markdown",
   "metadata": {},
   "source": [
    "Imagine que um paciente precise de uma consulta médica. Para isso, ele precisará passar por uma triagem, onde ele será cadastrado para uma consulta, que por sua vez, será realizada por um médico. Sabemos que no banco de dados, o **paciente** é uma entidade, que será consultado por outra entidade do banco chamado **médico**. Sabemos também que existe uma relação entre eles chamada **consulta**.\n",
    "\n",
    "Inicialmente, precisaremos perguntar qual a relação entre as duas entidades, e para isso, iremos fazer as seguintes perguntas:\n",
    "\n",
    "1. Um paciente pode ser consultado por mais de um médico?\n",
    "2. Um médico pode consultar mais de um paciente?\n",
    "3. Um paciente pode realizar mais de uma consulta com o mesmo médico?\n",
    "4. Um médico pode consultar o mesmo paciente mais de uma vez?\n",
    "\n",
    "Para responder à primeira pergunta, vamos voltar ao estudo de caso: o paciente em questão tem uma consulta marcada com um médico clinico-geral, do qual é realizada normalmente. Entretanto, esse mesmo médico encaminha o paciente para uma outra consulta, com outro médico, desta vez um especialista. Dito isso, a resposta da pergunta número 1 é **sim**, um paciente pode ser consultado por vários médicos.\n",
    "\n",
    "Da mesma forma, o médico não será exclusivo desse paciente. Portanto, uma vez que a consulta com esse paciente for finalizada, ele poderá consultar outro paciente. Logo, a resposta para a pergunta 2 também é **sim**, um médico pode consultar mais de um paciente.\n",
    "\n",
    "Agora, vamos supor que, ao invés do médico clínico-geral mandar o paciente para um especialista, ele solicita a realização de exames. Como o paciente é leigo na área da saúde, ele precisará voltar ao mesmo médico para que o mesmo possa orientá-lo sobre o que fazer, mas para isso, o paciente precisará marcar outra consulta, porém, com o mesmo médico. Sendo assim, a resposta para as perguntas 3 e 4 também é **sim**, o paciente poderá ser consultado várias vezes pelo mesmo médico, assim como esse médico poderá consultar o mesmo paciente várias vezes.\n",
    "\n",
    "Acontece que, nesse caso, há um outro detalhe que não foi falado ainda: a consulta possui atributos que deverão ser cadastrados no sistema. Se esse é o caso, **a consulta não seria ela própria também uma entidade?** A resposta também é **sim**. Mas como isso seria possível, se ela é exatamente a relação entre o paciente e o médico? Isso pode ser resolvido transformando essa relação em uma **Entidade Associativa**.\n",
    "\n",
    "### O que é uma Entidade Associativa?\n",
    "\n",
    "É uma entidade que também representa, ao mesmo tempo, uma relação entre duas outras entidades. É utilizada para representar relacionamentos complexos entre outras entidades. Elas são frequentemente usadas quando há a necessidade de armazenar informações adicionais sobre a relação entre duas ou mais entidades. São implementadas por meio de tabelas associativas, que contêm dados que se referem a outros dados, da mesma ou de outra tabela. Os objetivos das entidades associativas são:\n",
    "\n",
    "- Evitar a redundância de dados\n",
    "- Organizar informações complexas\n",
    "- Facilitar consultas complexas\n",
    "- Modelar relacionamentos abstratos ou intrincados entre entidades. \n",
    "- Estabelecer relações entre dados e tabelas em um banco de dados relacional. \n",
    "\n",
    "As entidades associativas são representadas por um retângulo com um losango dentro. Veja a imagem abaixo:"
   ]
  },
  {
   "cell_type": "markdown",
   "metadata": {},
   "source": [
    "<div style=\"display: flex; justify-content: center\">\n",
    "    <img src=\"../assets/entidade-associativa-simbolo.png\" alt=\"Entidade Associativa\" />\n",
    "</div>"
   ]
  },
  {
   "cell_type": "markdown",
   "metadata": {},
   "source": [
    "Este símbolo se encontra na barra de artefatos do brModelo. Arraste-o para a tela de desenho e faça a associação com as entidades **Médico** e **Paciente**, conforme figura abaixo:"
   ]
  },
  {
   "cell_type": "markdown",
   "metadata": {},
   "source": [
    "<div style=\"display: flex; justify-content: center\">\n",
    "    <img src=\"../assets/brmodelo-tela-21.png\" alt=\"Tela brModelo\" />\n",
    "</div>"
   ]
  },
  {
   "cell_type": "markdown",
   "metadata": {},
   "source": [
    "Isso deve ser feito para mostrar aos modelos lógico e físico futuramente que deveremos criar uma tabela para representar a entidade **Consulta**, que irá fazer a relação entre médico e paciente. Como toda entidade, a **Consulta** também terá seus próprios atributos. Para o nosso caso, vamos usar por enquanto apenas os atributos abaixo:\n",
    "\n",
    "- Código da Consulta\n",
    "- Data da Consulta\n",
    "- Hora da Consulta\n",
    "- Preço da Consulta"
   ]
  },
  {
   "cell_type": "markdown",
   "metadata": {},
   "source": [
    "<div style=\"display: flex; justify-content: center\">\n",
    "    <img src=\"../assets/brmodelo-tela-22.png\" alt=\"Tela brModelo\" />\n",
    "</div>"
   ]
  },
  {
   "cell_type": "markdown",
   "metadata": {},
   "source": [
    "E é isso. Com as inforamções reunidas em todas as nossas aulas até o momento, já é possível elaborar um excelente modelo conceitual com tudo o que é necessário. Pratique bastante, pois na próxima apostila iremos começar a trabalhar com o modelo lógico."
   ]
  }
 ],
 "metadata": {
  "language_info": {
   "name": "python"
  }
 },
 "nbformat": 4,
 "nbformat_minor": 2
}
