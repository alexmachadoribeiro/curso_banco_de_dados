{
 "cells": [
  {
   "cell_type": "markdown",
   "metadata": {},
   "source": [
    "# **Linguagem de Definição de Dados - DDL**\n",
    "---"
   ]
  },
  {
   "cell_type": "markdown",
   "metadata": {},
   "source": [
    "## Requisitos da Aula\n",
    "\n",
    "- Banco de Dados Relacional\n",
    "- Entidade e Atributos\n",
    "- Instalação MySQL\n",
    "- Modelo Lógico\n",
    "- Tipo de Dados\n",
    "- Introdução ao Modelo Físico\n",
    "- SQL\n",
    "- Meu Primeiro Banco\n",
    "\n",
    "---"
   ]
  },
  {
   "cell_type": "markdown",
   "metadata": {},
   "source": [
    "Agora que finalmente começamos a trabalhar com modelos físicos, podemos detalhar mais sobre como funcionam os comandos **DDL**.\n",
    "\n",
    "Começe abrindo o **MySQL Workbench** e em seguida abra a conexão **Local instance MySQL80** para entrarmos no modelo lógico:"
   ]
  },
  {
   "cell_type": "markdown",
   "metadata": {},
   "source": [
    "<div style=\"display: flex; justify-content: center\">\n",
    "    <img src=\"../assets/13-12.png\" alt=\"MySQL Workbench\" />\n",
    "</div>"
   ]
  },
  {
   "cell_type": "markdown",
   "metadata": {},
   "source": [
    "Quando abrir a conexão com o servidor, você irá dar de cara com a mesma tela da qual terminamos a aula anterior:"
   ]
  },
  {
   "cell_type": "markdown",
   "metadata": {},
   "source": [
    "<div style=\"display: flex; justify-content: center\">\n",
    "    <img src=\"../assets/16-01.png\" alt=\"MySQL Workbench\" />\n",
    "</div>"
   ]
  },
  {
   "cell_type": "markdown",
   "metadata": {},
   "source": [
    "Para o *script* dessa aula, você pode continuar o mesmo *script* da aula anterior onde paramos, ou pode criar um novo *script*, não importa, já que a edição do *script* não influencia diretamente em uma base de dados específico, apenas a execução dos seus comandos.\n",
    "\n",
    "Para facilitar o tutorial, vamos criar um novo *script* para separar o conteúdo da aula passada dessa aula. Para isso, vá em **File->New Query Tab**, ou então, use a tecla de atalho **Ctrl+T**:"
   ]
  },
  {
   "cell_type": "markdown",
   "metadata": {},
   "source": [
    "<div style=\"display: flex; justify-content: center\">\n",
    "    <img src=\"../assets/16-02.png\" alt=\"MySQL Workbench\" />\n",
    "</div>"
   ]
  },
  {
   "cell_type": "markdown",
   "metadata": {},
   "source": [
    "Ao fazer isso, irá abrir uma nova guia no editor de código. Você pode fechar a guia que estava aberta anteriormente, se assim desejar, ou não. De qualquer forma, vamos começar um novo *script*, porém, em cima da mesma base criada na aula anterior.\n",
    "\n",
    "Para isso, vamos começar executando o comando abaixo:"
   ]
  },
  {
   "cell_type": "markdown",
   "metadata": {},
   "source": [
    "#### SQL\n",
    "\n",
    "~~~sql\n",
    "-- seleciona a base de dados\n",
    "USE meu_primeiro_banco;\n",
    "~~~"
   ]
  },
  {
   "cell_type": "markdown",
   "metadata": {},
   "source": [
    "Como visto na aula passada, isso fará com que o banco `meu_primeiro_banco` seja selecionado:"
   ]
  },
  {
   "cell_type": "markdown",
   "metadata": {},
   "source": [
    "<div style=\"display: flex; justify-content: center\">\n",
    "    <img src=\"../assets/16-03.png\" alt=\"MySQL Workbench\" />\n",
    "</div>"
   ]
  },
  {
   "cell_type": "markdown",
   "metadata": {},
   "source": [
    "Como aprendemos anteriormente, sabemos que os comandos **DDL** são para definição de dados, e que os 3 mais importantes são **CREATE**, **ALTER** e **DROP**. Já aprendemos sobre o **CREATE** na aula passada. Hoje vamos aprender sobre os outros comandos.\n",
    "\n",
    "Observe que na base de dados `meu_primeiro_banco`, da qual estamos trabalhando agora, temos (por hora) uma única tabela, com apenas dois atributos: **id_usuario** e **nome**.\n",
    "\n",
    "Mas vamos supor que as regras de negócio mudaram (coisa que acontece o tempo todo em uma empresa de TI), e agora a tabela **usuario** precisa de mais campos. Vejamos como está agora o modelo conceitual:"
   ]
  },
  {
   "cell_type": "markdown",
   "metadata": {},
   "source": [
    "<div style=\"display: flex; justify-content: center\">\n",
    "    <img src=\"../assets/16-04.png\" alt=\"Modelo Conceitual\" />\n",
    "</div>"
   ]
  },
  {
   "cell_type": "markdown",
   "metadata": {},
   "source": [
    "Agora, vamos adaptar para o modelo lógico:"
   ]
  },
  {
   "cell_type": "markdown",
   "metadata": {},
   "source": [
    "<div style=\"display: flex; justify-content: center\">\n",
    "    <img src=\"../assets/16-05.png\" alt=\"Modelo Lógico\" />\n",
    "</div>"
   ]
  },
  {
   "cell_type": "markdown",
   "metadata": {},
   "source": [
    "Para conseguirmos alterar essa tabela no modelo físico, se executarmos o comando `CREATE TABLE` alterando as colunas recém-cradas, ele irá retornar um erro. Observe:"
   ]
  },
  {
   "cell_type": "markdown",
   "metadata": {},
   "source": [
    "<div style=\"display: flex; justify-content: center\">\n",
    "    <img src=\"../assets/16-06.png\" alt=\"MySQL Workbench\" />\n",
    "</div>"
   ]
  },
  {
   "cell_type": "markdown",
   "metadata": {},
   "source": [
    "Obviamente, ele não irá atualizar a tabela, pois o comando não era para atualizar, mas sim para criar uma tabela, e isso caso ela não existisse."
   ]
  },
  {
   "cell_type": "markdown",
   "metadata": {},
   "source": [
    "## ALTER\n",
    "---\n",
    "\n",
    "Dito isso, o comando para atualizar uma tabela que já foi criada anteriormente é `ALTER`. Nesse caso, precisaremos adicionar as colunas `cpf VARCHAR(14) NOT NULL UNIQUE` e `email VARCHAR(255) NOT NULL UNIQUE`. Para isso, vamos executar o comando abaixo e atualizar o schema:"
   ]
  },
  {
   "cell_type": "markdown",
   "metadata": {},
   "source": [
    "#### SQL\n",
    "\n",
    "~~~sql\n",
    "-- adicionando campos na tabela 'usuario'\n",
    "ALTER TABLE usuario\n",
    "ADD cpf VARCHAR(14) NOT NULL UNIQUE,\n",
    "ADD email VARCHAR(255) NOT NULL;\n",
    "~~~"
   ]
  },
  {
   "cell_type": "markdown",
   "metadata": {},
   "source": [
    "Observe que o schema já foi alterado:"
   ]
  },
  {
   "cell_type": "markdown",
   "metadata": {},
   "source": [
    "<div style=\"display: flex; justify-content: center\">\n",
    "    <img src=\"../assets/16-07.png\" alt=\"MySQL Workbench\" />\n",
    "</div>"
   ]
  },
  {
   "cell_type": "markdown",
   "metadata": {},
   "source": [
    "Mesmo assim, ainda cometemos um erro: ao adicionar a coluna `email`, esquecemos de definí-lo como **campo único**. Portanto, precisaremos fazer outra alteração na tabela, mas desta vez não é para adicionar um campo, mas para corrigí-lo. Execute o comando abaixo:"
   ]
  },
  {
   "cell_type": "markdown",
   "metadata": {},
   "source": [
    "#### SQL\n",
    "\n",
    "~~~sql\n",
    "-- alterando um campo de uma tabela\n",
    "ALTER TABLE usuario\n",
    "MODIFY email VARCHAR(255) NOT NULL UNIQUE;\n",
    "~~~"
   ]
  },
  {
   "cell_type": "markdown",
   "metadata": {},
   "source": [
    "Pronto. Só que agora, a regra de negócio foi mudada mais uma vez: o cliente agora não quer que o campo `cpf` seja cadastrado no banco, e que o campo `nome` seja descrito de forma mais clara como `nome_completo`.\n",
    "\n",
    "Tudo bem. Podemos fazer essa mudança. Execute o comando abaixo e atualize o schema:"
   ]
  },
  {
   "cell_type": "markdown",
   "metadata": {},
   "source": [
    "#### SQL\n",
    "\n",
    "~~~sql\n",
    "-- alterando o nome de um campo e excluindo outro\n",
    "ALTER TABLE usuario\n",
    "CHANGE nome nome_completo VARCHAR(255) NOT NULL,\n",
    "DROP COLUMN cpf;\n",
    "~~~"
   ]
  },
  {
   "cell_type": "markdown",
   "metadata": {},
   "source": [
    "<div style=\"display: flex; justify-content: center\">\n",
    "    <img src=\"../assets/16-08.png\" alt=\"MySQL Workbench\" />\n",
    "</div>"
   ]
  },
  {
   "cell_type": "markdown",
   "metadata": {},
   "source": [
    "Além disso, a tabela `usuario` não se chamará mais de `usuario`, mas sim de `cliente`, ou seja, haverá uma mudança no nome da entidade. Portanto, precisaremos executar o comando abaixo e atualizar o schema:"
   ]
  },
  {
   "cell_type": "markdown",
   "metadata": {},
   "source": [
    "#### SQL\n",
    "\n",
    "~~~sql\n",
    "-- alterando o nome da tabela\n",
    "RENAME TABLE usuario TO cliente;\n",
    "~~~"
   ]
  },
  {
   "cell_type": "markdown",
   "metadata": {},
   "source": [
    "<div style=\"display: flex; justify-content: center\">\n",
    "    <img src=\"../assets/16-09.png\" alt=\"MySQL Workbench\" />\n",
    "</div>"
   ]
  },
  {
   "cell_type": "markdown",
   "metadata": {},
   "source": [
    "Pelo menos até este ponto da aula, o script deverá estar igual ao que está logo abaixo:"
   ]
  },
  {
   "cell_type": "markdown",
   "metadata": {},
   "source": [
    "#### SQL\n",
    "\n",
    "~~~sql\n",
    "-- seleciona a base de dados\n",
    "USE meu_primeiro_banco;\n",
    "\n",
    "-- adicionando campos na tabela 'usuario'\n",
    "ALTER TABLE usuario\n",
    "ADD cpf VARCHAR(14) NOT NULL UNIQUE,\n",
    "ADD email VARCHAR(255) NOT NULL;\n",
    "\n",
    "-- alterando um campo de uma tabela\n",
    "ALTER TABLE usuario\n",
    "MODIFY email VARCHAR(255) NOT NULL UNIQUE;\n",
    "\n",
    "-- alterando o nome de um campo e excluindo outro\n",
    "ALTER TABLE usuario\n",
    "CHANGE nome nome_completo VARCHAR(255) NOT NULL,\n",
    "DROP COLUMN cpf;\n",
    "\n",
    "-- alterando o nome da tabela\n",
    "RENAME TABLE usuario TO cliente;\n",
    "~~~"
   ]
  },
  {
   "cell_type": "markdown",
   "metadata": {},
   "source": [
    "## DROP\n",
    "---\n",
    "\n",
    "Agora que já sabemos como alterar uma tabela, temos que aprender como excluir uma. Para isso, precisaremos excluir a tabela `cliente`, lembrando que mudamos o nome anteriormente. Execute o comando abaixo e atualize o schema:"
   ]
  },
  {
   "cell_type": "markdown",
   "metadata": {},
   "source": [
    "#### SQL\n",
    "\n",
    "~~~sql\n",
    "-- excluir a tabela\n",
    "DROP TABLE IF EXISTS cliente;\n",
    "~~~"
   ]
  },
  {
   "cell_type": "markdown",
   "metadata": {},
   "source": [
    "<div style=\"display: flex; justify-content: center\">\n",
    "    <img src=\"../assets/16-10.png\" alt=\"MySQL Workbench\" />\n",
    "</div>"
   ]
  },
  {
   "cell_type": "markdown",
   "metadata": {},
   "source": [
    "Observe que o banco agora não possui mais a tabela `cliente`. Consequentemente, o banco agora não possui mais tabela nenhuma, já que essa tabela era a única que existia.\n",
    "\n",
    "**Tome muito cuidado ao executar esse comando: ele exclui todos os registros que haviam dentro da tabela excluída. Não só isso: uma vez executado, esse comando não tem volta. Não há Ctrl+Z que resolva. Use-o com parcimônia.**\n",
    "\n",
    "Após excluírmos a tabela do banco, agora vamos excluir o banco inteiro. Para isso, execute o comando abaixo e atualize o schema:"
   ]
  },
  {
   "cell_type": "markdown",
   "metadata": {},
   "source": [
    "#### SQL\n",
    "\n",
    "~~~sql\n",
    "-- excluir o banco\n",
    "DROP DATABASE IF EXISTS meu_primeiro_banco;\n",
    "~~~"
   ]
  },
  {
   "cell_type": "markdown",
   "metadata": {},
   "source": [
    "<div style=\"display: flex; justify-content: center\">\n",
    "    <img src=\"../assets/16-11.png\" alt=\"MySQL Workbench\" />\n",
    "</div>"
   ]
  },
  {
   "cell_type": "markdown",
   "metadata": {},
   "source": [
    "Observe que agora é o banco que deixa de existir. Assim como no caso do `DROP TABLE`, o `DROP DATABASE` exclui todos os dados cadastrados em qualquer tabela desse banco, assim como exclui todas as tabelas que ainda existiam nele, e também é um comando sem volta. Use-o com muito cuidado.\n",
    "\n",
    "Ao final da aula, o script final deve ser esse:"
   ]
  },
  {
   "cell_type": "markdown",
   "metadata": {},
   "source": [
    "#### SQL\n",
    "\n",
    "~~~sql\n",
    "-- seleciona a base de dados\n",
    "USE meu_primeiro_banco;\n",
    "\n",
    "-- adicionando campos na tabela 'usuario'\n",
    "ALTER TABLE usuario\n",
    "ADD cpf VARCHAR(14) NOT NULL UNIQUE,\n",
    "ADD email VARCHAR(255) NOT NULL;\n",
    "\n",
    "-- alterando um campo de uma tabela\n",
    "ALTER TABLE usuario\n",
    "MODIFY email VARCHAR(255) NOT NULL UNIQUE;\n",
    "\n",
    "-- alterando o nome de um campo e excluindo outro\n",
    "ALTER TABLE usuario\n",
    "CHANGE nome nome_completo VARCHAR(255) NOT NULL,\n",
    "DROP COLUMN cpf;\n",
    "\n",
    "-- alterando o nome da tabela\n",
    "RENAME TABLE usuario TO cliente;\n",
    "\n",
    "-- excluir a tabela\n",
    "DROP TABLE IF EXISTS cliente;\n",
    "\n",
    "-- excluir o banco\n",
    "DROP DATABASE IF EXISTS meu_primeiro_banco;\n",
    "~~~"
   ]
  },
  {
   "cell_type": "markdown",
   "metadata": {},
   "source": [
    "Salve o script com o nome e local que desejar.\n",
    "\n",
    "Abraços e até a próxima."
   ]
  }
 ],
 "metadata": {
  "language_info": {
   "name": "python"
  }
 },
 "nbformat": 4,
 "nbformat_minor": 2
}
