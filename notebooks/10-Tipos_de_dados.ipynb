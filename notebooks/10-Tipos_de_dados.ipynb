{
 "cells": [
  {
   "cell_type": "markdown",
   "metadata": {},
   "source": [
    "# **Tipos de Dados**\n",
    "---"
   ]
  },
  {
   "cell_type": "markdown",
   "metadata": {},
   "source": [
    "## Requisitos da Aula\n",
    "\n",
    "- Modelo Lógico\n",
    "\n",
    "---"
   ]
  },
  {
   "cell_type": "markdown",
   "metadata": {},
   "source": [
    "Na aula anterior, vimos sobre como criar tabelas e seus campos no modelo lógico. Nesta aula, iremos aprender sobre os tipos de dados mais comuns dos campos."
   ]
  },
  {
   "cell_type": "markdown",
   "metadata": {},
   "source": [
    "<div style=\"display: flex; justify-content: center\">\n",
    "    <img src=\"../assets/workbench-10.png\" alt=\"MySQL Workbench\" />\n",
    "</div>"
   ]
  },
  {
   "cell_type": "markdown",
   "metadata": {},
   "source": [
    "Quando você cria um novo campo no modelo lógico, você precisa definir em **Datatype** o tipo de dado que aquele campo irá receber."
   ]
  },
  {
   "cell_type": "markdown",
   "metadata": {},
   "source": [
    "<div style=\"display: flex; justify-content: center\">\n",
    "    <img src=\"../assets/10_01.png\" alt=\"MySQL Workbench\" />\n",
    "</div>"
   ]
  },
  {
   "cell_type": "markdown",
   "metadata": {},
   "source": [
    "Cada tipo de dado indica o valor que, de fato, deve ser inserido naquele campo. Caso o usuário final insira um valor que não seja correspondente ao que foi configurado no respectivo campo, o banco de dados pode retornar um erro, e o registro pode não ser inserido.\n",
    "\n",
    "Como pode abservar na imagem acima, são realmente muitos tipos de dados, sendo que alguns realmente são pouco ou nunca usados. Por esse motivo, serão listados apenas os mais comuns:"
   ]
  },
  {
   "cell_type": "markdown",
   "metadata": {},
   "source": [
    "### INT\n",
    "\n",
    "É usado para inserir números do tipo inteiro. Nesse caso, são válidos quaisquer números do zero ao infinito, desde que não possuam casas decimais. São válidos tanto números positivos quanto números negativos.\n",
    "\n",
    "Até o MySQL 5, havia a necessidade de informar o ***range*** do campo, o useja, o tamanho do campo. Exemplo: um campo do tipo `INT(4)` podia guardar valores de até 4 digitos, no qual era possível armazenar qualquer número de 0 até 9999, mas nas versões mais atuais (8.0 ou maior) não há a necessidade de informar o tamanho do campo, bastando digitar apenas `INT`."
   ]
  },
  {
   "cell_type": "markdown",
   "metadata": {},
   "source": [
    "### VARCHAR\n",
    "\n",
    "São os campos do tipo texto, que nas linguagens de programação são mais conhecidos como *Strings*. O campo varchar aceita qualquer tipo de caractere, sejam símbolos, pontuações, acentuação e caracteres alfa-numéricos, entre outros.\n",
    "\n",
    "Até o MySQL 5, o campo VARCHAR comportava um range até o máximo de 255 caracteres, ou bytes. Já nas versões mais recenetes (8.0 ou maior) é possível fazer esse campo ocupar um tamanho maior. Porém, isso é contra-indicado por vários motivos: um deles é justamente o fato de que um campo `VARCHAR(255)` pode não ser compatível com o MySQL 5, versão essa que ainda é muito utilizada no mercado de trabalho por vários motivos. Outro motivo é que um campo que ultrapasse o tamanho de 255 do `VARCHAR` pode impactar negativamente no desempenho do banco como um todo, e também no armazenamento do servidor. Portanto, caso precise de um campo de texto maior que 255, melhor trocar o `VARCHAR` por `TEXT` ou `LONGTEXT`, por exemplo.\n",
    "\n",
    "O mais comum é utilizar o `VARCHAR(255)` por compatibilidade com sistemas legados, e por ser suficiente para muitos casos."
   ]
  },
  {
   "cell_type": "markdown",
   "metadata": {},
   "source": [
    "### TEXT\n",
    "\n",
    "Assim como o `VARCHAR()`, o campo do tipo `TEXT` também é utilizado para armazenar strings, ou seja, textos. A diferença está no tamanho que pode comportar: enquanto o `VARCHAR` comporta 255 bytes, o `TEXT` pode comportar **65.535 bytes**, ou aproximadamente 64 KB. Ele é mais recomendado quando você precisa armazenar textos de tamanho moderado, como descrições, comentários ou artigos curtos."
   ]
  },
  {
   "cell_type": "markdown",
   "metadata": {},
   "source": [
    "### LONGTEXT\n",
    "\n",
    "Da mesma forma que os campos do tipo `VARCHAR()` e `TEXT`, esse também armazena textos, mas desta vez ele é utilizado para textos realmente grandes, como textos de livros, por exemplo. Ele comporta até **4.294.967.295 bytes**, ou aproximadamente 4 GB.\n",
    "\n",
    "Por conta de sua capacidade de armazenamento, utilize esse tipo de dado apenas para textos que podem exceder o tamanho de 64 KB, já que esse tipo de campo pode impactar no desemepenho do banco e armazenamento do servidor. Caso o texto tenha um tamanho menor que 64 KB, dê preferência para o tipo `TEXT`."
   ]
  },
  {
   "cell_type": "markdown",
   "metadata": {},
   "source": [
    "### FLOAT\n",
    "\n",
    "Esse é outro tipo de dado utilizado para campos numéricos. A diferença entre esse e o `INT` é que esse aceita números decimais. O nome float vem de **ponto flutuante**. Nesse tipo de dado, os valroes decimais podem ser arredondados, e costumam ser utilizados em cálculos científicos ou gráficos, onde o intervalo de valores é maior."
   ]
  },
  {
   "cell_type": "markdown",
   "metadata": {},
   "source": [
    "### DECIMAL\n",
    "\n",
    "Os valores do tipo `DECIMAL()` também aceitam números com casas decimais. A diferença entre ele e o `FLOAT` é que no `DECIMAL()` os valores são muito mais precisos. Os números são armazenados como strings de caracteres, evitando erros de arredondamentos, como os que acontecem no `FLOAT`. Esse tipo de dado é utilizado em campos que serão utilizados em cálculos em que os valores devem ser exatos, e não podem ser arredondados, como cálculos financeiros, por exemplo.\n",
    "\n",
    "Tanto em `DECIMAL`quanto em `FLOAT`, o range é informado repassando dois valores dentro do parênteses. Exemplo: `DECIMAL(5, 2)` indica um valor com 5 dígitos, onde os dois últimos são os valores decimais. Um exemplo de valor que poderia ser armazenado no campo `DECIMAL(5, 2)` é 100,25."
   ]
  }
 ],
 "metadata": {
  "language_info": {
   "name": "python"
  }
 },
 "nbformat": 4,
 "nbformat_minor": 2
}
