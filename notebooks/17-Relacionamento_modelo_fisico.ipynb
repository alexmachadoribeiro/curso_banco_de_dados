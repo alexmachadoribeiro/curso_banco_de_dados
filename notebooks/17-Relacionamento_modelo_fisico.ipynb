{
 "cells": [
  {
   "cell_type": "markdown",
   "metadata": {},
   "source": [
    "# **Relacionamento no Modelo Físico**\n",
    "---"
   ]
  },
  {
   "cell_type": "markdown",
   "metadata": {},
   "source": [
    "## Requisitos da Aula\n",
    "\n",
    "- Banco de Dados Relacional\n",
    "- Entidade e Atributos\n",
    "- Relações\n",
    "- Relacionamento Modelo Lógico\n",
    "- SQL\n",
    "- Meu Primeiro Banco\n",
    "- DDL\n",
    "\n",
    "---"
   ]
  },
  {
   "cell_type": "markdown",
   "metadata": {},
   "source": [
    "Na aula de hoje iremos aprender sobre como relacionar duas tabelas no modelo físico. Mas antes, precisaremos criar um novo banco, já que o da aula anterior foi destruído graças ao comando `DROP`, lembra? Então, mãos à obra."
   ]
  },
  {
   "cell_type": "markdown",
   "metadata": {},
   "source": [
    "## Preparando o banco\n",
    "---\n",
    "\n",
    "Desta vez, vamos usar como base o banco criado na aula **Relações**. Abra o **MySQL Workbench** e abra o primeiro modelo lógico criado na aula **Relacionamento Modelo Lógico**:"
   ]
  },
  {
   "cell_type": "markdown",
   "metadata": {},
   "source": [
    "<div style=\"display: flex; justify-content: center\">\n",
    "    <img src=\"../assets/11-08.png\" alt=\"Modelo lógico\" />\n",
    "</div>"
   ]
  },
  {
   "cell_type": "markdown",
   "metadata": {},
   "source": [
    "\n",
    "Não vamos perder tempo com explicações. Já aprendemos como criar um banco e também como criar uma tabela. Portanto, já vamos colocar a mão na massa e criar um banco chamado `banco_imobiliario`, e depois criar a tabela `proprietario`. O *script* até o momento fica o seguinte:"
   ]
  },
  {
   "cell_type": "markdown",
   "metadata": {},
   "source": [
    "#### SQL\n",
    "\n",
    "~~~sql\n",
    "-- cria o banco\n",
    "CREATE DATABASE IF NOT EXISTS banco_imobiliario;\n",
    "\n",
    "-- seleciona o banco\n",
    "USE banco_imobiliario;\n",
    "\n",
    "-- cria a tabela 'proprietario'\n",
    "CREATE TABLE IF NOT EXISTS proprietario(\n",
    "    id_proprietario INT NOT NULL AUTO_INCREMENT,\n",
    "    nome VARCHAR(255) NOT NULL,\n",
    "    cpf VARCHAR(14) NOT NULL UNIQUE,\n",
    "    PRIMARY KEY (id_proprietario)\n",
    ");\n",
    "~~~"
   ]
  },
  {
   "cell_type": "markdown",
   "metadata": {},
   "source": [
    "Repare que ainda não criamos a tabela `imovel`. Isso acontece porque há uma novidade na criação dessa tabela, e é isso que iremos aprender nessa aula.\n",
    "\n",
    "A criação da tabela `imovel` segue o mesmo padrão da criação da tabela `proprietario`, com a diferença de que agora temos que colocar também, além da chave primária, a **chave estrangeira**.\n",
    "\n",
    "Funciona assim: inserimos todos os campos na tabela normalmente, com seus tipos, propriedades e ranges certinho. Depois, criamos um campo idêntico ao campo da chave primária da tabela `proprietario`, e por último, definimos esse campo como chave estrangeira através do comando `FOREIGN KEY (nome_do_campo_chave) REFERENCES nome_da_outra_tabela(chave_primaria_da_outra_tabela);`. O comando completo da criação da tabela `imovel`está logo abaixo:"
   ]
  },
  {
   "cell_type": "markdown",
   "metadata": {},
   "source": [
    "#### SQL\n",
    "\n",
    "~~~sql\n",
    "-- cria a tabela 'imovel'\n",
    "CREATE TABLE IF NOT EXISTS imovel(\n",
    "    id_imovel INT NOT NULL AUTO_INCREMENT,\n",
    "    cep VARCHAR(10) NOT NULL,\n",
    "    uf CHAR(2) NOT NULL,\n",
    "    cidade VARCHAR(255) NOT NULL,\n",
    "    bairro VARCHAR(255) NOT NULL,\n",
    "    logradouro VARCHAR(255) NOT NULL,\n",
    "    complemento VARCHAR(255),\n",
    "    numero VARCHAR(255) NOT NULL,\n",
    "    id_proprietario INT NOT NULL, -- campo que será a chave estrangeira\n",
    "    PRIMARY KEY (id_imovel),\n",
    "    FOREIGN KEY (id_proprietario) REFERENCES proprietario(id_proprietario) -- define a chave estrangeira\n",
    ");\n",
    "~~~"
   ]
  },
  {
   "cell_type": "markdown",
   "metadata": {},
   "source": [
    "Pronto! Agora temos duas tabelas relacionadas entre si. Segue abaixo o script até o momento:"
   ]
  },
  {
   "cell_type": "markdown",
   "metadata": {},
   "source": [
    "#### SQL\n",
    "\n",
    "~~~sql\n",
    "-- cria o banco\n",
    "CREATE DATABASE IF NOT EXISTS banco_imobiliario;\n",
    "\n",
    "-- seleciona o banco\n",
    "USE banco_imobiliario;\n",
    "\n",
    "-- cria a tabela 'proprietario'\n",
    "CREATE TABLE IF NOT EXISTS proprietario(\n",
    "    id_proprietario INT NOT NULL AUTO_INCREMENT,\n",
    "    nome VARCHAR(255) NOT NULL,\n",
    "    cpf VARCHAR(14) NOT NULL UNIQUE,\n",
    "    PRIMARY KEY (id_proprietario)\n",
    ");\n",
    "\n",
    "-- cria a tabela 'imovel'\n",
    "CREATE TABLE IF NOT EXISTS imovel(\n",
    "    id_imovel INT NOT NULL AUTO_INCREMENT,\n",
    "    cep VARCHAR(10) NOT NULL,\n",
    "    uf CHAR(2) NOT NULL,\n",
    "    cidade VARCHAR(255) NOT NULL,\n",
    "    bairro VARCHAR(255) NOT NULL,\n",
    "    logradouro VARCHAR(255) NOT NULL,\n",
    "    complemento VARCHAR(255),\n",
    "    numero VARCHAR(255) NOT NULL,\n",
    "    id_proprietario INT NOT NULL,\n",
    "    PRIMARY KEY (id_imovel),\n",
    "    FOREIGN KEY (id_proprietario) REFERENCES proprietario(id_proprietario)\n",
    ");\n",
    "~~~"
   ]
  },
  {
   "cell_type": "markdown",
   "metadata": {},
   "source": [
    "### E se tivéssemos errado a criação da tabela?\n",
    "\n",
    "Caso a tabela tivesse sido criada de forma igual à tabela `proprietario`, ou seja, com o código abaixo, sem a chave estrangeira:"
   ]
  },
  {
   "cell_type": "markdown",
   "metadata": {},
   "source": [
    "#### SQL\n",
    "\n",
    "~~~sql\n",
    "-- cria a tabela 'imovel'\n",
    "CREATE TABLE IF NOT EXISTS imovel(\n",
    "    id_imovel INT NOT NULL AUTO_INCREMENT,\n",
    "    cep VARCHAR(10) NOT NULL,\n",
    "    uf CHAR(2) NOT NULL,\n",
    "    cidade VARCHAR(255) NOT NULL,\n",
    "    bairro VARCHAR(255) NOT NULL,\n",
    "    logradouro VARCHAR(255) NOT NULL,\n",
    "    complemento VARCHAR(255),\n",
    "    numero VARCHAR(255) NOT NULL,\n",
    "    PRIMARY KEY (id_imovel)\n",
    ");\n",
    "~~~"
   ]
  },
  {
   "cell_type": "markdown",
   "metadata": {},
   "source": [
    "Aí teríamosque corrigir a tabela usando o `ALTER`. Veja como ficaria:"
   ]
  },
  {
   "cell_type": "markdown",
   "metadata": {},
   "source": [
    "#### SQL\n",
    "\n",
    "~~~sql\n",
    "-- alterando a tabela imovel\n",
    "ALTER TABLE imovel\n",
    "ADD id_proprietario INT NOT NULL AFTER complemento,\n",
    "ADD FOREIGN KEY (id_proprietario) REFERENCES proprietario(id_proprietario);\n",
    "~~~"
   ]
  }
 ],
 "metadata": {
  "language_info": {
   "name": "python"
  }
 },
 "nbformat": 4,
 "nbformat_minor": 2
}
