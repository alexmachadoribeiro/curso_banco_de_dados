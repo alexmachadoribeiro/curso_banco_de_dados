{
 "cells": [
  {
   "cell_type": "markdown",
   "metadata": {},
   "source": [
    "# **Linguagem de Consulta Estruturada - SQL**\n",
    "---"
   ]
  },
  {
   "cell_type": "markdown",
   "metadata": {},
   "source": [
    "## Requisitos da Aula\n",
    "\n",
    "- Banco de Dados Relacional\n",
    "- Instalação MySQL\n",
    "- Introdução ao Modelo Físico\n",
    "\n",
    "---"
   ]
  },
  {
   "cell_type": "markdown",
   "metadata": {},
   "source": [
    "Finalmente chegou a hora de aprendermos a linguagens dos bancos de dados relacionais, o **SQL**. O tema dessa aula será sobre as divisões da linguagem e seus principais comandos, apenas."
   ]
  },
  {
   "cell_type": "markdown",
   "metadata": {},
   "source": [
    "## Structured Query Language\n",
    "---\n",
    "\n",
    "A ***Structured Query Language*** (Linguagem de Consulta Estruturada), também conhecida como **SQL**, é a linguagem utilizada para criar ***scripts*** (roteiros) para se trabalhar com o chamado **Modelo Físico de Banco de Dados**. A linguagem SQL é dividida basicamente em 4 seções:\n",
    "\n",
    "- **DDL**: Data Definition Language.\n",
    "- **DML**: Data Manipulation Language.\n",
    "- **DQL**: Data Query Language.\n",
    "- **DCL**.: Data Control Language.\n",
    "\n",
    "Existem outras divisões também, mas essas são as principais, e serão o tema dessa aula."
   ]
  },
  {
   "cell_type": "markdown",
   "metadata": {},
   "source": [
    "### Linguagem de Definição de Dados - DDL\n",
    "\n",
    "O ***Data Definition Language*** (Linguagem de Definição de Dados), também conhecido como **DDL**, reúne os comandos utilizados para criar, alterar ou excluir tabelas ou até mesmo bancos de dados inteiros. Os principais comandos são:\n",
    "\n",
    "- **CREATE**: cria uma tabela ou um banco.\n",
    "- **ALTER**: altera uma tabela ou um banco, como por exemplo adicionar, excluir ou mudar as propriedades de um campo de uma tabela.\n",
    "- **DROP**: excluir uma tabela ou um banco.\n",
    "\n",
    "### Linguagem de Manipulação de Dados - DML\n",
    "\n",
    "O ***Data Manipulation Language*** (Linguagem de Manipulação de Dados), também conhecido como **DML**, reúne os comandos utilizados para trabalhar diretamente nas linhas da tabela, também conhecidos como **registros** ou **tupla**. Os principais comandos são:\n",
    "\n",
    "- **INSERT**: insere um novo registro ou tupla.\n",
    "- **UPDATE**: atualiza os dados das colunas de uma tupla.\n",
    "- **DELETE**: deleta um registro inteiro da tabela.\n",
    "\n",
    "### Linguagem de Consulta de Dados - DQL\n",
    "\n",
    "O ***Data Query Language*** (Linguagem de Consutla de Dados), também conhecido como **DQL**, é o responsável por realizar as consultas do banco de dados, ou seja, retorna valores que o usuário deseja visualizar. Essa categoria de comandos geralmente não altera os dados de um registro, nem impacta na construção de uma tabela ou banco, e portanto não altera em nada o banco de dados. Seu principal comando é:\n",
    "\n",
    "- **SELECT**: usado para selecionar os dados de uma ou mais tabelas, ou mesmo de colunas específicas.\n",
    "\n",
    "### Linguagem de Controle de Dados - DCL\n",
    "\n",
    "o ***Data Control Language** (Linguagem de Controle de Dados), também conhecido como **DCL**, reúne os comandos utilizados para definir quais comandos um usuário de um banco poderá executar. Graças a esses comandos, pode-se definir quais usuários poderão executar certos comandos, e serem proibidos de executar outros comandos. Os principais comandos são:\n",
    "\n",
    "- **GRANT**: concede permissão para a execução de determinados comandos SQL, em determinados bancos de dados e/ou tabelas.\n",
    "- **REVOKE**: revoga a permissão dada para a execução de determinados comandos SQL, em determinados bancos de dados e/ou tabelas.\n",
    "- **DENY**: nega a permissão para a execução de determinados comandos SQL, em determinados bancos de dados e/ou tabelas."
   ]
  },
  {
   "cell_type": "markdown",
   "metadata": {},
   "source": [
    "Esses comandos poderão ser executados em qualquer editor de textos ou editor de códigos, mas como vimos na aula anterior, o próprio MySQL Workbench possui seu próprio editor para que possamos trabalhar com o modelo físico.\n",
    "\n",
    "Na próxima aula, iremos criar nosso primeiro banco, de fato. Até a próxima."
   ]
  }
 ],
 "metadata": {
  "language_info": {
   "name": "python"
  }
 },
 "nbformat": 4,
 "nbformat_minor": 2
}
