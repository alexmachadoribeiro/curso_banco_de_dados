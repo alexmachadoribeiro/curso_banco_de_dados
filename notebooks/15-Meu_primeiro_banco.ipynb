{
 "cells": [
  {
   "cell_type": "markdown",
   "metadata": {},
   "source": [
    "# **Criando o primeiro banco**\n",
    "---"
   ]
  },
  {
   "cell_type": "markdown",
   "metadata": {},
   "source": [
    "## Requisitos da Aula\n",
    "\n",
    "- Banco de Dados Relacional\n",
    "- DER\n",
    "- Entidade e Atributos\n",
    "- Instalação MySQL\n",
    "- Modelo Lógico\n",
    "- Tipos de Dados\n",
    "- Introdução ao Modelo Físico\n",
    "- SQL\n",
    "\n",
    "---"
   ]
  },
  {
   "cell_type": "markdown",
   "metadata": {},
   "source": [
    "Agora sim, vamos finalmente criar nosso primeiro banco, de fato. O primeiro passo é criar o **Database** que também chamamos de **base de dados**."
   ]
  },
  {
   "cell_type": "markdown",
   "metadata": {},
   "source": [
    "## CREATE\n",
    "---\n",
    "\n",
    "Como vimos na aula anterior, inicialmente vamos precisar dos comandos DDL, e o primeiro deles que vamos precisar é o comando **CREATE**, utilizando tanto para criar novas bases quanto para criar as tabelas dentro das bases.\n",
    "\n",
    "Abra o MySQL Workbench (ou o editor de códigos de sua preferência que esteja devidamente configurado e conectado ao Servidor do MySQL), e abra a conexão configurada em **Local instance MySQL80**."
   ]
  },
  {
   "cell_type": "markdown",
   "metadata": {},
   "source": [
    "<div style=\"display: flex; justify-content: center\">\n",
    "    <img src=\"../assets/13-12.png\" alt=\"MySQL Workbench\" />\n",
    "</div>"
   ]
  },
  {
   "cell_type": "markdown",
   "metadata": {},
   "source": [
    "Caso peça, informe a senha de *root*. Caso a conexão seja bem sucedida, irá aparecer a tela abaixo:"
   ]
  },
  {
   "cell_type": "markdown",
   "metadata": {},
   "source": [
    "<div style=\"display: flex; justify-content: center\">\n",
    "    <img src=\"../assets/13-13.png\" alt=\"MySQL Workbench\" />\n",
    "</div>"
   ]
  },
  {
   "cell_type": "markdown",
   "metadata": {},
   "source": [
    "Já sabe que a tela principal refere-se ao editor de códigos, odne iremos criar o nosso *script*. O ***script*** é basicamente o código em SQL que escreveremos.\n",
    "\n",
    "Vamos primeiramente criar o nosso banco. Vamos chamá-lo de `meu_primeiro_banco`. Portanto, digite no editor o código abaixo:"
   ]
  },
  {
   "cell_type": "code",
   "execution_count": null,
   "metadata": {
    "vscode": {
     "languageId": "sql"
    }
   },
   "outputs": [],
   "source": [
    "CREATE DATABASE IF NOT EXISTS meu_primeiro_banco;"
   ]
  },
  {
   "cell_type": "markdown",
   "metadata": {},
   "source": [
    "### Explicando o código-fonte\n",
    "\n",
    "1. Como dissemos anteriormente, o `CREATE` serve para criar um banco ou uma tabela, mas no nosso caso será um novo banco.\n",
    "2. `DATABASE` se refere ao que nós queremos criar, ou seja: um novo banco.\n",
    "3. `IF NOT EXISTS` informa ao servidor para executar o comando apenas no caso do banco com o nome desejado não existir.\n",
    "4. `meu_primeiro_banco` é o nome do banco que queremos criar. Repare na conotação de nomenclatura que usamos. Em SQL, usamos **Snake Case**, que é quando separamos os nomes por *underscore* (`_`).\n",
    "5. O `;` encerra o comando.\n",
    "6. O contexto do comando fica: **\"Criar o banco de dados caso não exista de nome meu_primeiro_banco\"**.\n",
    "\n",
    "É importante mencionar que o SQL **não é sensitive case**, ou seja, ele não distingue letras maiúsculas e minúsculas, mas para seguir boas práticas, vamos digitar os comandos em **totalmente em caixa alta**, e os nomes dos bancos, tabelas e campos, vamos definir com a nomenclatura **snake case**."
   ]
  },
  {
   "cell_type": "markdown",
   "metadata": {},
   "source": [
    "## Executando o comando\n",
    "---\n",
    "\n",
    "Para executar qualquer comando em banco de dados, você pode:\n",
    "\n",
    "- Clicar no **raio amarelo** na barra logo abaixo do nome da guia. Isso executará o(s) comando(s) que estiver(em) selecionado(s). Caso não haja nenhuma seleção, ele irá executar **TODO O SCRIPT**. Esse mesmo comando pode ser acessado pela tecla de atalho **Ctrl+Shift+Enter**:"
   ]
  },
  {
   "cell_type": "markdown",
   "metadata": {},
   "source": [
    "<div style=\"display: flex; justify-content: center\">\n",
    "    <img src=\"../assets/15-01.png\" alt=\"MySQL Workbench\" />\n",
    "</div>"
   ]
  },
  {
   "cell_type": "markdown",
   "metadata": {},
   "source": [
    "Você pode clicar no raio amarelo com um curso de teclado, que fica logo ao lado do raio amarelo. Ele executa diretamente o comando onde o cursor do teclado está piscando. Esse mesmo comando pode ser acessado pela tecla de atalho **Ctrl+Enter**:"
   ]
  },
  {
   "cell_type": "markdown",
   "metadata": {},
   "source": [
    "<div style=\"display: flex; justify-content: center\">\n",
    "    <img src=\"../assets/15-02.png\" alt=\"MySQL Workbench\" />\n",
    "</div>"
   ]
  },
  {
   "cell_type": "markdown",
   "metadata": {},
   "source": [
    "Pois bem, com o cursor piscando na mesma linha do código recém digitado, execute o comando da forma que preferir (sugestão: **Ctrl+Enter**):"
   ]
  },
  {
   "cell_type": "markdown",
   "metadata": {},
   "source": [
    "<div style=\"display: flex; justify-content: center\">\n",
    "    <img src=\"../assets/15-03.png\" alt=\"MySQL Workbench\" />\n",
    "</div>"
   ]
  },
  {
   "cell_type": "markdown",
   "metadata": {},
   "source": [
    "Se der certo, irá aparecer na área de **Output** uma mensagem com um círculo verde, indicando que o comando foi executado com sucesso. Se no lugar dele aparecer outra mensagem com um círculo vermelho com um **X** no centro, significa que o comando não foi executado por algum motivo. Se esse motivo não for conexão (até porque se estamos aqui, é porque o Workbench está conectado ao servidor), então há algum erro de sintaxe no comando.\n",
    "\n",
    "Para verificarmos as alterações no servidor, vá em **Schemas** no painel **Navigator** e clique no botão de **Refresh**:"
   ]
  },
  {
   "cell_type": "markdown",
   "metadata": {},
   "source": [
    "<div style=\"display: flex; justify-content: center\">\n",
    "    <img src=\"../assets/13-17.png\" alt=\"MySQL Workbench\" />\n",
    "</div>"
   ]
  },
  {
   "cell_type": "markdown",
   "metadata": {},
   "source": [
    "<div style=\"display: flex; justify-content: center\">\n",
    "    <img src=\"../assets/13-18.png\" alt=\"MySQL Workbench\" />\n",
    "</div>"
   ]
  },
  {
   "cell_type": "markdown",
   "metadata": {},
   "source": [
    "<div style=\"display: flex; justify-content: center\">\n",
    "    <img src=\"../assets/15-04.png\" alt=\"MySQL Workbench\" />\n",
    "</div>"
   ]
  },
  {
   "cell_type": "markdown",
   "metadata": {},
   "source": [
    "<div style=\"display: flex; justify-content: center\">\n",
    "    <img src=\"../assets/15-05.png\" alt=\"MySQL Workbench\" />\n",
    "</div>"
   ]
  },
  {
   "cell_type": "markdown",
   "metadata": {},
   "source": [
    "Há ainda uma outra forma: através do comando SQL abaixo:"
   ]
  },
  {
   "cell_type": "code",
   "execution_count": null,
   "metadata": {
    "vscode": {
     "languageId": "sql"
    }
   },
   "outputs": [],
   "source": [
    "SHOW DATABASES;"
   ]
  },
  {
   "cell_type": "markdown",
   "metadata": {},
   "source": [
    "Ao executar esse comando, ele irá mostrar uma lista com todos as bases criadas naquele servidor, incluíndo o recém-criado `meu_primeiro_banco`. Veja:"
   ]
  },
  {
   "cell_type": "markdown",
   "metadata": {},
   "source": [
    "<div style=\"display: flex; justify-content: center\">\n",
    "    <img src=\"../assets/15-06.png\" alt=\"MySQL Workbench\" />\n",
    "</div>"
   ]
  },
  {
   "cell_type": "markdown",
   "metadata": {},
   "source": [
    "Agora, para que possamos trabalhar nesse banco, precisamos selecioná-lo. Podemos fazer de duas formas:\n",
    "\n",
    "- Podemos simplesmente dar um clique duplo  em `meu_primeiro_banco` que aparece na lista de **schemas**.\n",
    "- Podemos executar o seguinte comando SQL:"
   ]
  },
  {
   "cell_type": "code",
   "execution_count": null,
   "metadata": {
    "vscode": {
     "languageId": "sql"
    }
   },
   "outputs": [],
   "source": [
    "USE meu_primeiro_banco;"
   ]
  },
  {
   "cell_type": "markdown",
   "metadata": {},
   "source": [
    "Para podermos criar um script coeso (a importância de se criar um script coeso será visto em aula futura), vamos dar preferência ao segundo método, mas lembre-se: a escolha nesse momento é sua, e o resultado será o mesmo."
   ]
  },
  {
   "cell_type": "markdown",
   "metadata": {},
   "source": [
    "<div style=\"display: flex; justify-content: center\">\n",
    "    <img src=\"../assets/15-07.png\" alt=\"MySQL Workbench\" />\n",
    "</div>"
   ]
  },
  {
   "cell_type": "markdown",
   "metadata": {},
   "source": [
    "Se tiver dado certo, independente da forma que você escolheu para selecionar a base, o nome irá aparecer em negro, se destacando em relação ao nome dos outros bancos, conforme imagem acima.\n",
    "\n",
    "Pronto. Com o nosso banco criado e selecionado, agora podemos criar a nossa primeira tabela. Lembra-se da nossa primeira entidade que criamos no curso? Que tal criarmos ela aqui no modelo físico? Para isso, vamos dar uma olhada no nosso primeiro modelo lógico que fizemos:"
   ]
  },
  {
   "cell_type": "markdown",
   "metadata": {},
   "source": [
    "<div style=\"display: flex; justify-content: center\">\n",
    "    <img src=\"../assets/tb_usuario.png\" alt=\"Tabela Usuario\" />\n",
    "</div>"
   ]
  },
  {
   "cell_type": "markdown",
   "metadata": {},
   "source": [
    "Excelente! Que tal criarmos essa mesma tabela no banco que acabamos de criar agora? Execute o comando SQL abaixo:"
   ]
  },
  {
   "cell_type": "code",
   "execution_count": null,
   "metadata": {
    "vscode": {
     "languageId": "sql"
    }
   },
   "outputs": [],
   "source": [
    "CREATE TABLE IF NOT EXISTS Usuario (\n",
    "    id_usuario INT NOT NULL AUTO_INCREMENT,\n",
    "    nome VARCHAR(255) NOT NULL,\n",
    "    PRIMARY KEY (id_usuario)\n",
    ");"
   ]
  },
  {
   "cell_type": "markdown",
   "metadata": {},
   "source": [
    "Se o comando tiver sido executado corretamente, atualize o **schema**:"
   ]
  },
  {
   "cell_type": "markdown",
   "metadata": {},
   "source": [
    "<div style=\"display: flex; justify-content: center\">\n",
    "    <img src=\"../assets/15-08.png\" alt=\"Tabela Usuario\" />\n",
    "</div>"
   ]
  },
  {
   "cell_type": "markdown",
   "metadata": {},
   "source": [
    "Observe que dentro da base `meu_primeiro_banco` existem os itens: **Tables**, **Views**, **Stored Procedures** e **Functions**. Cada um desses itens serão vistos em aulas futuras, exceto **Tables**, que começaremos a ver agora mesmo.\n",
    "\n",
    "Repare que do lado de **Tables** existe uma seta. Clique nela para destrinchar:"
   ]
  },
  {
   "cell_type": "markdown",
   "metadata": {},
   "source": [
    "<div style=\"display: flex; justify-content: center\">\n",
    "    <img src=\"../assets/15-09.png\" alt=\"Tabela Usuario\" />\n",
    "</div>"
   ]
  },
  {
   "cell_type": "markdown",
   "metadata": {},
   "source": [
    "Observe que já identificou a tabela **Usuario**. O nome **Usuario** no *schema* também tem uma seta, clique nela para destrinchar:"
   ]
  },
  {
   "cell_type": "markdown",
   "metadata": {},
   "source": [
    "<div style=\"display: flex; justify-content: center\">\n",
    "    <img src=\"../assets/15-10.png\" alt=\"Tabela Usuario\" />\n",
    "</div>"
   ]
  },
  {
   "cell_type": "markdown",
   "metadata": {},
   "source": [
    "Repare que dentro de **usuario** aparecem agora: **Columns**, **Indexes**, **Foreign Keys** e **Triggers**. Mais uma vez, falaremos sobre cada um em aulas futuras, exceto **Columns**, que será mostrado agora. **Columns** também tem uma seta, clique nela para destrinchar:"
   ]
  },
  {
   "cell_type": "markdown",
   "metadata": {},
   "source": [
    "<div style=\"display: flex; justify-content: center\">\n",
    "    <img src=\"../assets/15-11.png\" alt=\"Tabela Usuario\" />\n",
    "</div>"
   ]
  },
  {
   "cell_type": "markdown",
   "metadata": {},
   "source": [
    "Veja que as colunas que criamos aparecem aí. Significa que agora temos uma tabela no nosso banco.\n",
    "\n",
    "Há também uma outra forma de se visualizar uma tabela no banco. Digite e execute o comando SQL abaixo:"
   ]
  },
  {
   "cell_type": "code",
   "execution_count": null,
   "metadata": {
    "vscode": {
     "languageId": "sql"
    }
   },
   "outputs": [],
   "source": [
    "SHOW TABLES;"
   ]
  },
  {
   "cell_type": "markdown",
   "metadata": {},
   "source": [
    "<div style=\"display: flex; justify-content: center\">\n",
    "    <img src=\"../assets/15-12.png\" alt=\"Tabela Usuario\" />\n",
    "</div>"
   ]
  },
  {
   "cell_type": "markdown",
   "metadata": {},
   "source": [
    "Agora, caso deseje ver as colunas da tabela usuario via comando SQL, digite e execute o comando abaixo:"
   ]
  },
  {
   "cell_type": "code",
   "execution_count": null,
   "metadata": {
    "vscode": {
     "languageId": "sql"
    }
   },
   "outputs": [],
   "source": [
    "SELECT COLUMN_NAME FROM INFORMATION_SCHEMA.COLUMNS WHERE TABLE_SCHEMA = 'meu_primeiro_banco' AND TABLE_NAME = 'usuario';"
   ]
  },
  {
   "cell_type": "markdown",
   "metadata": {},
   "source": [
    "<div style=\"display: flex; justify-content: center\">\n",
    "    <img src=\"../assets/15-13.png\" alt=\"Tabela Usuario\" />\n",
    "</div>"
   ]
  }
 ],
 "metadata": {
  "language_info": {
   "name": "python"
  }
 },
 "nbformat": 4,
 "nbformat_minor": 2
}
