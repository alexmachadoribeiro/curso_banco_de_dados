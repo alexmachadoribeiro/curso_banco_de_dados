{
 "cells": [
  {
   "cell_type": "markdown",
   "metadata": {},
   "source": [
    "# **Introdução ao Modelo Físico**\n",
    "---"
   ]
  },
  {
   "cell_type": "markdown",
   "metadata": {},
   "source": [
    "## Requisitos da Aula\n",
    "\n",
    "- Introdução ao Banco de Dados\n",
    "- Banco de Dados Relacional\n",
    "- Entidade e Atributos\n",
    "- Instalação MySQL\n",
    "\n",
    "---"
   ]
  },
  {
   "cell_type": "markdown",
   "metadata": {},
   "source": [
    "Finalmente chegou a hora! Vamos começar a criar os modelos físicos dos nossos bancos de dados."
   ]
  },
  {
   "cell_type": "markdown",
   "metadata": {},
   "source": [
    "## Estabelecendo a conexão com o servidor\n",
    "---\n",
    "\n",
    "Para a nossa aula, poderão ser utilizados os editores de código que você desejar, mas neste curso serão utilizados o próprio editor do **MySQL Workbench**. E é por isso que essa aula será dedicada a mostrar como criar uma conexão com o servidor do MySQL, que é o SGBD que iremos utilizar no curso. Começe abrindo o já instalado **MySQL Workbench**:"
   ]
  },
  {
   "cell_type": "markdown",
   "metadata": {},
   "source": [
    "<div style=\"display: flex; justify-content: center\">\n",
    "    <img src=\"../assets/13-01.png\" alt=\"MySQL Workbench\" />\n",
    "</div>"
   ]
  },
  {
   "cell_type": "markdown",
   "metadata": {},
   "source": [
    "Essa é a tela inicial do **MySQL Workbench**, que utilizaremos até o final do curso. Caso já esteja com ele aberto, mas ainda esteja na tela de modelos lógicos, clique no símbolo do golfinho no alto à esquerda da janela:"
   ]
  },
  {
   "cell_type": "markdown",
   "metadata": {},
   "source": [
    "<div style=\"display: flex; justify-content: center\">\n",
    "    <img src=\"../assets/13-02.png\" alt=\"MySQL Workbench\" />\n",
    "</div>"
   ]
  },
  {
   "cell_type": "markdown",
   "metadata": {},
   "source": [
    "Se a instalação tiver sido feita corretamente como descrito na aula 08 **Instalação do MySQL**, já vai existir uma conexão na tela principal configurada chamada **Local Instance MySQL80**. Ao clicar nele, o programa irá iniciar uma conexão com o servidor de banco de dados que foi configurado localmente na sua máquina, passo que também foi mostrado na aula 08 sobre a instalação do MySQL, mas não faremos isso ainda...\n",
    "\n",
    "Antes, vamos clicar com o botão direito do mouse em cima dessa conexão, e depois clicar em **Edit Connection...**:"
   ]
  },
  {
   "cell_type": "markdown",
   "metadata": {},
   "source": [
    "<div style=\"display: flex; justify-content: center\">\n",
    "    <img src=\"../assets/13-03.png\" alt=\"MySQL Workbench\" />\n",
    "</div>"
   ]
  },
  {
   "cell_type": "markdown",
   "metadata": {},
   "source": [
    "Se tiver feito corretamente, vai aparecer a seguinte janela:"
   ]
  },
  {
   "cell_type": "markdown",
   "metadata": {},
   "source": [
    "<div style=\"display: flex; justify-content: center\">\n",
    "    <img src=\"../assets/13-04.png\" alt=\"MySQL Workbench\" />\n",
    "</div>"
   ]
  },
  {
   "cell_type": "markdown",
   "metadata": {},
   "source": [
    "Nesta janela, estão alguns dados da configuração de conexão com o banco de dados. Vamos considerar apenas os mais importantes para esse momento, ok?\n",
    "\n",
    "- **Connection name**: nomle que você irá dar para a sua conexão. Mude apenas se quiser algo mais personalizado ou para diferenciar as outras conexões. No nosso caso, vamos deixar mesmo como **Local instance MySQL80**.\n",
    "- **Connection Method**: apenas o método pelo qual a sua máquina vai se conectar ao servidor. Como a conexão é com o servidor local, vamos deixar como **Standart (TCP/IP)**.\n",
    "- **Hostname**: é o nome do endereço do servidor. Geralmente é o nome do servidor na rede ou o seu endereço de IP, mas mais uma vez, no nosso caso o servidor de banco é local. Portanto, vamos deixar como **localhost**, ou então **127.0.0.1**.\n",
    "- **Port**: é a porta de acesso ao banco. Seu padrão é **3306**, mas esse número pode mudar de acordo com as regras do **firewall** do servidor ou da política de TI da empresa. Geralmente nos casos de servidores que estão na rede, esse número costuma ser diferente (consultar o departamento de TI da empresa para saber qual porta está liberada para o MySQL), mas se você estiver usando o servidor local e seguiu corretamente as instruções de instalação do MySQL, a porta com certeza será **3306**.\n",
    "- **Username**: é o nome de usuário do banco de dados. Sempre haverá um usuário chamado **root**. O usuário *root* é o principal administrador do banco, e geralmente a conexão **Local instance MySQL80** usa o root como usuário padrão. Esse usuário pode ser mudado, desde que outro usuário tenha sido criado no processo de instalação (o que não foi feito, caso tenha seguido a aula 08). Há a possibilidade de se criar outro usuário, em outro momento, o que não é o nosso caso. Portanto, vamos deixar como **root** mesmo.\n",
    "- **Password**: esse campo vai vir com dois botões: **Store in Vault...** e **Clear**. Store in Vault... serve para armazena a senha do usuário na conexão. Dessa forma, sempre que o usuário for abrir uma conexão, ele irá entrar automaticamente. Clear serve para deletar essa senha. Não mexeremos em nenhum desses botões por hora.\n",
    "- **Default Schema**: serve para definir o *schema* padrão ao abrir a coenxão. Não mexeremos por hora nesse campo.\n",
    "\n",
    "O botão **Test Connection** serve para testar as configurações aplicadas nessa janela. **Clique nesse botçao** para testar a conexão. Primeiramente, ele irá pedir a senha:"
   ]
  },
  {
   "cell_type": "markdown",
   "metadata": {},
   "source": [
    "<div style=\"display: flex; justify-content: center\">\n",
    "    <img src=\"../assets/13-10.png\" alt=\"MySQL Workbench\" />\n",
    "</div>"
   ]
  },
  {
   "cell_type": "markdown",
   "metadata": {},
   "source": [
    "E depois ele irá informar se a conexão deu certo ou não:"
   ]
  },
  {
   "cell_type": "markdown",
   "metadata": {},
   "source": [
    "<div style=\"display: flex; justify-content: center\">\n",
    "    <img src=\"../assets/13-11.png\" alt=\"MySQL Workbench\" />\n",
    "</div>"
   ]
  },
  {
   "cell_type": "markdown",
   "metadata": {},
   "source": [
    "Se aparecer a tela acima, significa que a conexão foi feita com sucesso, e o servidor de banco de dados está ativo. Você pode pular a seção **Inicializando o servidor de Banco de Dados** e ir diretamente para a seção **Conhecendo a tela do Modelo Físico**.\n",
    "\n",
    "Mas pode também aaprecer essa outra tela abaixo:"
   ]
  },
  {
   "cell_type": "markdown",
   "metadata": {},
   "source": [
    "<div style=\"display: flex; justify-content: center\">\n",
    "    <img src=\"../assets/13-05.png\" alt=\"MySQL Workbench\" />\n",
    "</div>"
   ]
  },
  {
   "cell_type": "markdown",
   "metadata": {},
   "source": [
    "Se for o caso, significa que ocorreu um erro na hora de estabelecer uma conexão com o servidor de banco. Precisamos verificar o que houve. Pode ser n coisas. Felizmente, caso tenha seguido fielmente as instruções até agora, já podemos deduzir qual o problema: **o servidor de banco de dados está desligado**. Solução? **é só ligar**. Prossiga com o tutorial para **Inicializar o servidor de Banco de Dados**."
   ]
  },
  {
   "cell_type": "markdown",
   "metadata": {},
   "source": [
    "### Inicializando o servidor de Banco de Dados\n",
    "\n",
    "Acesse os **Serviços do Windows**. A forma mais rápida é usando a tecla de atalho **Windows+R** para acessar a janela **Executar**, e digitar o comando **services.msc**, e dar um **Enter**."
   ]
  },
  {
   "cell_type": "markdown",
   "metadata": {},
   "source": [
    "<div style=\"display: flex; justify-content: center\">\n",
    "    <img src=\"../assets/13-06.png\" alt=\"Executar\" />\n",
    "</div>"
   ]
  },
  {
   "cell_type": "markdown",
   "metadata": {},
   "source": [
    "Ao abrir a janela de serviços do Windows, procure pelo serviço **MySQL80**, e dê um clique duplo ou Enter."
   ]
  },
  {
   "cell_type": "markdown",
   "metadata": {},
   "source": [
    "<div style=\"display: flex; justify-content: center\">\n",
    "    <img src=\"../assets/13-07.png\" alt=\"Services\" />\n",
    "</div>"
   ]
  },
  {
   "cell_type": "markdown",
   "metadata": {},
   "source": [
    "Na janela que se abrir, verifique o **Status do serviço**. Se estiver como **Em execuçaõ**, basta clicar em **OK** que o servidor já está funcionando e pronto para trabalharmos, mas se o Status do serviço estiver como **Parado**, significa que o servidor não foi inicializado, mas para resolver isso é simples: clique no botão **Iniciar** na janela e aguardar o status mudar para Em execução."
   ]
  },
  {
   "cell_type": "markdown",
   "metadata": {},
   "source": [
    "<div style=\"display: flex; justify-content: center\">\n",
    "    <img src=\"../assets/13-08.png\" alt=\"MySQL80\" />\n",
    "</div>"
   ]
  },
  {
   "cell_type": "markdown",
   "metadata": {},
   "source": [
    "<div style=\"display: flex; justify-content: center\">\n",
    "    <img src=\"../assets/13-09.png\" alt=\"MySQL80\" />\n",
    "</div>"
   ]
  },
  {
   "cell_type": "markdown",
   "metadata": {},
   "source": [
    "Feito isso, o servidor de banco de dados está em execução e pronto para trabalhar. Pode dar **OK** na janela, fechar a janela de serviços e voltar para a janela do **MySQL Workbench**."
   ]
  },
  {
   "cell_type": "markdown",
   "metadata": {},
   "source": [
    "## Conhecendo a tela do Modelo Físico\n",
    "---\n",
    "\n",
    "Antes de começarmos a criar nosso primeiro modelo físico do banco, vamos conhecer a tela. Começe abrindo a conexão **Local instance MySQL80**:"
   ]
  },
  {
   "cell_type": "markdown",
   "metadata": {},
   "source": [
    "<div style=\"display: flex; justify-content: center\">\n",
    "    <img src=\"../assets/13-12.png\" alt=\"MySQL Workbench\" />\n",
    "</div>"
   ]
  },
  {
   "cell_type": "markdown",
   "metadata": {},
   "source": [
    "Se ele pedir a senha, só informar a senha de **root** definida durante a instalação do MySQL. Se tudo der certo, irá abrir a seguinte tela:"
   ]
  },
  {
   "cell_type": "markdown",
   "metadata": {},
   "source": [
    "<div style=\"display: flex; justify-content: center\">\n",
    "    <img src=\"../assets/13-13.png\" alt=\"MySQL Workbench\" />\n",
    "</div>"
   ]
  },
  {
   "cell_type": "markdown",
   "metadata": {},
   "source": [
    "A tela central é um editor de códigos para você criar o seu **script** na linguagem **SQL**, que é a linguagem utilizada em bancos de dados relacionais:"
   ]
  },
  {
   "cell_type": "markdown",
   "metadata": {},
   "source": [
    "<div style=\"display: flex; justify-content: center\">\n",
    "    <img src=\"../assets/13-14.png\" alt=\"MySQL Workbench\" />\n",
    "</div>"
   ]
  },
  {
   "cell_type": "markdown",
   "metadata": {},
   "source": [
    "Abaixo, a seção de **Output**, que serve para mostrar se um comando foi executado com sucesso ou se ocorreu algum erro."
   ]
  },
  {
   "cell_type": "markdown",
   "metadata": {},
   "source": [
    "<div style=\"display: flex; justify-content: center\">\n",
    "    <img src=\"../assets/13-15.png\" alt=\"MySQL Workbench\" />\n",
    "</div>"
   ]
  },
  {
   "cell_type": "markdown",
   "metadata": {},
   "source": [
    "À esquerda da janela, temos o **Painel de Navegação**, ou **Navigator**. Esse painel possui duas guias: **Administration** e **Schemas**."
   ]
  },
  {
   "cell_type": "markdown",
   "metadata": {},
   "source": [
    "<div style=\"display: flex; justify-content: center\">\n",
    "    <img src=\"../assets/13-16.png\" alt=\"MySQL Workbench\" />\n",
    "</div>"
   ]
  },
  {
   "cell_type": "markdown",
   "metadata": {},
   "source": [
    "Se você clicar em **Schemas**, ele irá listar todos os bancos de dados que existem nesse servidor. Não se preocupe se não aparecer nenhum, pois o MySQL é recém-instalado:"
   ]
  },
  {
   "cell_type": "markdown",
   "metadata": {},
   "source": [
    "<div style=\"display: flex; justify-content: center\">\n",
    "    <img src=\"../assets/13-17.png\" alt=\"MySQL Workbench\" />\n",
    "</div>"
   ]
  },
  {
   "cell_type": "markdown",
   "metadata": {},
   "source": [
    "<div style=\"display: flex; justify-content: center\">\n",
    "    <img src=\"../assets/13-18.png\" alt=\"MySQL Workbench\" />\n",
    "</div>"
   ]
  },
  {
   "cell_type": "markdown",
   "metadata": {},
   "source": [
    "Por hora, isso é tudo o que você precisa saber. Na próxima aula, iremos aprender sobre os comandos SQL, e só depois iremos criar nosso primeiro script de banco."
   ]
  }
 ],
 "metadata": {
  "language_info": {
   "name": "python"
  }
 },
 "nbformat": 4,
 "nbformat_minor": 2
}
